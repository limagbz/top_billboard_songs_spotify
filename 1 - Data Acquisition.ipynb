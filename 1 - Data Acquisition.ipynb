{
 "cells": [
  {
   "cell_type": "code",
   "execution_count": 28,
   "id": "everyday-shareware",
   "metadata": {},
   "outputs": [],
   "source": [
    "from pathlib import Path\n",
    "\n",
    "import requests\n",
    "from tqdm import tqdm"
   ]
  },
  {
   "cell_type": "markdown",
   "id": "laden-single",
   "metadata": {},
   "source": [
    "# Data Acquistion"
   ]
  },
  {
   "cell_type": "code",
   "execution_count": 29,
   "id": "based-apparel",
   "metadata": {},
   "outputs": [],
   "source": [
    "RAW_DATA_PATH_BILLBOARD = Path('data/raw/billboard')\n",
    "RAW_DATA_PATH_SPOTIFY = Path('data/raw/spotify')\n",
    "\n",
    "RAW_DATA_PATH_BILLBOARD.mkdir(exist_ok=True, parents=True)\n",
    "RAW_DATA_PATH_SPOTIFY.mkdir(exist_ok=True, parents=True)"
   ]
  },
  {
   "cell_type": "markdown",
   "id": "mental-enhancement",
   "metadata": {},
   "source": [
    "## Get Billboard Data"
   ]
  },
  {
   "cell_type": "code",
   "execution_count": 30,
   "id": "portuguese-engineering",
   "metadata": {},
   "outputs": [],
   "source": [
    "BASE_DOWNLOAD_URL = \"https://raw.githubusercontent.com/kevinschaich/billboard/master/data/years/{}.json\"\n",
    "DOWNLOAD_YEARS = list(range(1950, 2015 + 1))"
   ]
  },
  {
   "cell_type": "code",
   "execution_count": 32,
   "id": "responsible-silence",
   "metadata": {},
   "outputs": [
    {
     "name": "stderr",
     "output_type": "stream",
     "text": [
      "100%|██████████| 66/66 [00:33<00:00,  1.95it/s]\n"
     ]
    }
   ],
   "source": [
    "for year in tqdm(DOWNLOAD_YEARS):\n",
    "    r = requests.get(BASE_DOWNLOAD_URL.format(year))\n",
    "    if r.status_code != 200: print(f\"Error: {year}\")\n",
    "    with open(RAW_DATA_PATH_BILLBOARD/\"{}.json\".format(year), 'wb') as f:\n",
    "        f.write(r.content)"
   ]
  },
  {
   "cell_type": "markdown",
   "id": "victorian-vinyl",
   "metadata": {},
   "source": [
    "### COMPAS"
   ]
  },
  {
   "cell_type": "code",
   "execution_count": 19,
   "id": "upper-beginning",
   "metadata": {},
   "outputs": [],
   "source": [
    "# Extracted From: https://github.com/propublica/compas-analysis/\n",
    "compas_data_url = BASE_URL.format(2010)\n",
    "compas_data_file = RAW_DATA_PATH_BILLBOARD / '2010.json'\n",
    "\n",
    "output = download_data(compas_data_url, compas_data_file)"
   ]
  },
  {
   "cell_type": "code",
   "execution_count": 21,
   "id": "alert-sunset",
   "metadata": {},
   "outputs": [
    {
     "data": {
      "text/plain": [
       "int"
      ]
     },
     "execution_count": 21,
     "metadata": {},
     "output_type": "execute_result"
    }
   ],
   "source": [
    "type(output)"
   ]
  },
  {
   "cell_type": "code",
   "execution_count": null,
   "id": "reasonable-european",
   "metadata": {},
   "outputs": [],
   "source": []
  }
 ],
 "metadata": {
  "kernelspec": {
   "display_name": "Python 3",
   "language": "python",
   "name": "python3"
  },
  "language_info": {
   "codemirror_mode": {
    "name": "ipython",
    "version": 3
   },
   "file_extension": ".py",
   "mimetype": "text/x-python",
   "name": "python",
   "nbconvert_exporter": "python",
   "pygments_lexer": "ipython3",
   "version": "3.8.4"
  }
 },
 "nbformat": 4,
 "nbformat_minor": 5
}
