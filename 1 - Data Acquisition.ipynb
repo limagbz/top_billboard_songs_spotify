{
 "cells": [
  {
   "cell_type": "code",
   "execution_count": 1,
   "id": "stuck-sierra",
   "metadata": {},
   "outputs": [],
   "source": [
    "import os\n",
    "import re\n",
    "import json\n",
    "from pathlib import Path\n",
    "\n",
    "import requests\n",
    "import spotipy\n",
    "import pandas as pd\n",
    "from tqdm import tqdm\n",
    "from requests.exceptions import ReadTimeout\n",
    "from spotipy.oauth2 import SpotifyClientCredentials, SpotifyOAuth\n",
    "from dotenv import load_dotenv\n",
    "from more_itertools import chunked"
   ]
  },
  {
   "cell_type": "code",
   "execution_count": 2,
   "id": "involved-robinson",
   "metadata": {},
   "outputs": [
    {
     "data": {
      "text/plain": [
       "True"
      ]
     },
     "execution_count": 2,
     "metadata": {},
     "output_type": "execute_result"
    }
   ],
   "source": [
    "load_dotenv()"
   ]
  },
  {
   "cell_type": "markdown",
   "id": "split-bottom",
   "metadata": {},
   "source": [
    "# Data Acquistion"
   ]
  },
  {
   "cell_type": "code",
   "execution_count": 3,
   "id": "inner-mapping",
   "metadata": {},
   "outputs": [],
   "source": [
    "RAW_DATA_PATH = Path('data/raw')\n",
    "INTERIM_DATA_PATH = Path('data/interim')\n",
    "EXTERNAL_DATA_PATH = Path('data/external')\n",
    "\n",
    "RAW_DATA_PATH_BILLBOARD = RAW_DATA_PATH / 'billboard'\n",
    "RAW_DATA_PATH_SPOTIFY = RAW_DATA_PATH / 'spotify'\n",
    "INTERIM_DATA_BILLBOARD = INTERIM_DATA_PATH / 'billboard'\n",
    "EXTERNAL_DATA_PATH_SPOTIFY = EXTERNAL_DATA_PATH / 'spotify'\n",
    "\n",
    "RAW_DATA_PATH_BILLBOARD.mkdir(exist_ok=True, parents=True)\n",
    "INTERIM_DATA_BILLBOARD.mkdir(exist_ok=True, parents=True)\n",
    "RAW_DATA_PATH_SPOTIFY.mkdir(exist_ok=True, parents=True)\n",
    "EXTERNAL_DATA_PATH_SPOTIFY.mkdir(exist_ok=True, parents=True)"
   ]
  },
  {
   "cell_type": "code",
   "execution_count": 14,
   "id": "stone-exhaust",
   "metadata": {},
   "outputs": [],
   "source": [
    "BILLBOARD_TABLE_FILEPATH = INTERIM_DATA_BILLBOARD / \"billboard_data.csv\"\n",
    "SONG_IDS_FILEPATH = EXTERNAL_DATA_PATH_SPOTIFY / \"song_ids.csv\"\n",
    "SONG_AUDIO_FEATURES_FILEPATH = EXTERNAL_DATA_PATH_SPOTIFY / \"song_audiofeatures.csv\""
   ]
  },
  {
   "cell_type": "markdown",
   "id": "stupid-accommodation",
   "metadata": {},
   "source": [
    "## Billboard Data"
   ]
  },
  {
   "cell_type": "markdown",
   "id": "mexican-alexander",
   "metadata": {},
   "source": [
    "### Download"
   ]
  },
  {
   "cell_type": "code",
   "execution_count": 12,
   "id": "ultimate-recruitment",
   "metadata": {},
   "outputs": [],
   "source": [
    "BILLBOARD_BASE_DOWNLOAD_URL = \"https://raw.githubusercontent.com/kevinschaich/billboard/master/data/years/{}.json\"\n",
    "BILLBOARD_DOWNLOAD_YEARS = list(range(1950, 2015 + 1))"
   ]
  },
  {
   "cell_type": "code",
   "execution_count": 5,
   "id": "natural-beverage",
   "metadata": {},
   "outputs": [
    {
     "name": "stderr",
     "output_type": "stream",
     "text": [
      "100%|██████████| 66/66 [00:44<00:00,  1.49it/s]\n"
     ]
    }
   ],
   "source": [
    "for year in tqdm(BILLBOARD_DOWNLOAD_YEARS):\n",
    "    r = requests.get(BILLBOARD_BASE_DOWNLOAD_URL.format(year))\n",
    "    if r.status_code != 200: print(f\"Error: {year}\")\n",
    "    with open(RAW_DATA_PATH_BILLBOARD/\"{}.json\".format(year), 'wb') as f:\n",
    "        f.write(r.content)"
   ]
  },
  {
   "cell_type": "markdown",
   "id": "changed-timber",
   "metadata": {},
   "source": [
    "### Tabulating Data"
   ]
  },
  {
   "cell_type": "code",
   "execution_count": 6,
   "id": "compliant-greene",
   "metadata": {},
   "outputs": [],
   "source": [
    "def flatten_dict(dd, separator ='_', prefix =''): \n",
    "    return { prefix + separator + k if prefix else k : v \n",
    "             for kk, vv in dd.items() \n",
    "             for k, v in flatten_dict(vv, separator, kk).items() \n",
    "             } if isinstance(dd, dict) else { prefix : dd } "
   ]
  },
  {
   "cell_type": "code",
   "execution_count": 7,
   "id": "protected-zambia",
   "metadata": {},
   "outputs": [
    {
     "name": "stderr",
     "output_type": "stream",
     "text": [
      "100%|██████████| 66/66 [00:00<00:00, 219.18it/s]\n"
     ]
    },
    {
     "name": "stdout",
     "output_type": "stream",
     "text": [
      "4028\n"
     ]
    }
   ],
   "source": [
    "years_dfs = []\n",
    "for year in tqdm(BILLBOARD_DOWNLOAD_YEARS):\n",
    "    with open(RAW_DATA_PATH_BILLBOARD/\"{}.json\".format(year), 'r') as f:\n",
    "        flatten_data = [flatten_dict(x) for x in json.load(f)]\n",
    "        years_dfs.append(pd.DataFrame(flatten_data))\n",
    "                         \n",
    "billboard_table_df = pd.concat(years_dfs, keys=BILLBOARD_DOWNLOAD_YEARS)\n",
    "billboard_table_df = billboard_table_df.reset_index(level=0).rename(columns={'level_0': 'year'})\n",
    "billboard_table_df = billboard_table_df.reset_index(drop=True)\n",
    "\n",
    "print(len(billboard_table_df))\n",
    "                         \n",
    "billboard_table_df.to_csv(BILLBOARD_TABLE_FILEPATH) "
   ]
  },
  {
   "cell_type": "markdown",
   "id": "proof-former",
   "metadata": {},
   "source": [
    "## Spotify Data"
   ]
  },
  {
   "cell_type": "code",
   "execution_count": 13,
   "id": "instructional-squad",
   "metadata": {},
   "outputs": [
    {
     "ename": "SpotifyOauthError",
     "evalue": "No client_id. Pass it or set a SPOTIPY_CLIENT_ID environment variable.",
     "output_type": "error",
     "traceback": [
      "\u001b[0;31m---------------------------------------------------------------------------\u001b[0m",
      "\u001b[0;31mSpotifyOauthError\u001b[0m                         Traceback (most recent call last)",
      "\u001b[0;32m<ipython-input-13-d30e10b34653>\u001b[0m in \u001b[0;36m<module>\u001b[0;34m\u001b[0m\n\u001b[0;32m----> 1\u001b[0;31m \u001b[0mauth_manager\u001b[0m \u001b[0;34m=\u001b[0m \u001b[0mSpotifyClientCredentials\u001b[0m\u001b[0;34m(\u001b[0m\u001b[0;34m)\u001b[0m\u001b[0;34m\u001b[0m\u001b[0;34m\u001b[0m\u001b[0m\n\u001b[0m\u001b[1;32m      2\u001b[0m \u001b[0msp\u001b[0m \u001b[0;34m=\u001b[0m \u001b[0mspotipy\u001b[0m\u001b[0;34m.\u001b[0m\u001b[0mSpotify\u001b[0m\u001b[0;34m(\u001b[0m\u001b[0mauth_manager\u001b[0m\u001b[0;34m=\u001b[0m\u001b[0mauth_manager\u001b[0m\u001b[0;34m,\u001b[0m \u001b[0mrequests_timeout\u001b[0m\u001b[0;34m=\u001b[0m\u001b[0;36m15\u001b[0m\u001b[0;34m)\u001b[0m\u001b[0;34m\u001b[0m\u001b[0;34m\u001b[0m\u001b[0m\n",
      "\u001b[0;32m~/.cache/pypoetry/virtualenvs/projeto-visualizacao-nC3cRgIs-py3.9/lib/python3.9/site-packages/spotipy/oauth2.py\u001b[0m in \u001b[0;36m__init__\u001b[0;34m(self, client_id, client_secret, proxies, requests_session, requests_timeout)\u001b[0m\n\u001b[1;32m    155\u001b[0m         \u001b[0msuper\u001b[0m\u001b[0;34m(\u001b[0m\u001b[0mSpotifyClientCredentials\u001b[0m\u001b[0;34m,\u001b[0m \u001b[0mself\u001b[0m\u001b[0;34m)\u001b[0m\u001b[0;34m.\u001b[0m\u001b[0m__init__\u001b[0m\u001b[0;34m(\u001b[0m\u001b[0mrequests_session\u001b[0m\u001b[0;34m)\u001b[0m\u001b[0;34m\u001b[0m\u001b[0;34m\u001b[0m\u001b[0m\n\u001b[1;32m    156\u001b[0m \u001b[0;34m\u001b[0m\u001b[0m\n\u001b[0;32m--> 157\u001b[0;31m         \u001b[0mself\u001b[0m\u001b[0;34m.\u001b[0m\u001b[0mclient_id\u001b[0m \u001b[0;34m=\u001b[0m \u001b[0mclient_id\u001b[0m\u001b[0;34m\u001b[0m\u001b[0;34m\u001b[0m\u001b[0m\n\u001b[0m\u001b[1;32m    158\u001b[0m         \u001b[0mself\u001b[0m\u001b[0;34m.\u001b[0m\u001b[0mclient_secret\u001b[0m \u001b[0;34m=\u001b[0m \u001b[0mclient_secret\u001b[0m\u001b[0;34m\u001b[0m\u001b[0;34m\u001b[0m\u001b[0m\n\u001b[1;32m    159\u001b[0m         \u001b[0mself\u001b[0m\u001b[0;34m.\u001b[0m\u001b[0mtoken_info\u001b[0m \u001b[0;34m=\u001b[0m \u001b[0;32mNone\u001b[0m\u001b[0;34m\u001b[0m\u001b[0;34m\u001b[0m\u001b[0m\n",
      "\u001b[0;32m~/.cache/pypoetry/virtualenvs/projeto-visualizacao-nC3cRgIs-py3.9/lib/python3.9/site-packages/spotipy/oauth2.py\u001b[0m in \u001b[0;36mclient_id\u001b[0;34m(self, val)\u001b[0m\n\u001b[1;32m    107\u001b[0m     \u001b[0;34m@\u001b[0m\u001b[0mclient_id\u001b[0m\u001b[0;34m.\u001b[0m\u001b[0msetter\u001b[0m\u001b[0;34m\u001b[0m\u001b[0;34m\u001b[0m\u001b[0m\n\u001b[1;32m    108\u001b[0m     \u001b[0;32mdef\u001b[0m \u001b[0mclient_id\u001b[0m\u001b[0;34m(\u001b[0m\u001b[0mself\u001b[0m\u001b[0;34m,\u001b[0m \u001b[0mval\u001b[0m\u001b[0;34m)\u001b[0m\u001b[0;34m:\u001b[0m\u001b[0;34m\u001b[0m\u001b[0;34m\u001b[0m\u001b[0m\n\u001b[0;32m--> 109\u001b[0;31m         \u001b[0mself\u001b[0m\u001b[0;34m.\u001b[0m\u001b[0m_client_id\u001b[0m \u001b[0;34m=\u001b[0m \u001b[0m_ensure_value\u001b[0m\u001b[0;34m(\u001b[0m\u001b[0mval\u001b[0m\u001b[0;34m,\u001b[0m \u001b[0;34m\"client_id\"\u001b[0m\u001b[0;34m)\u001b[0m\u001b[0;34m\u001b[0m\u001b[0;34m\u001b[0m\u001b[0m\n\u001b[0m\u001b[1;32m    110\u001b[0m \u001b[0;34m\u001b[0m\u001b[0m\n\u001b[1;32m    111\u001b[0m     \u001b[0;34m@\u001b[0m\u001b[0mproperty\u001b[0m\u001b[0;34m\u001b[0m\u001b[0;34m\u001b[0m\u001b[0m\n",
      "\u001b[0;32m~/.cache/pypoetry/virtualenvs/projeto-visualizacao-nC3cRgIs-py3.9/lib/python3.9/site-packages/spotipy/oauth2.py\u001b[0m in \u001b[0;36m_ensure_value\u001b[0;34m(value, env_key)\u001b[0m\n\u001b[1;32m     75\u001b[0m             \u001b[0menv_val\u001b[0m\u001b[0;34m,\u001b[0m\u001b[0;34m\u001b[0m\u001b[0;34m\u001b[0m\u001b[0m\n\u001b[1;32m     76\u001b[0m         )\n\u001b[0;32m---> 77\u001b[0;31m         \u001b[0;32mraise\u001b[0m \u001b[0mSpotifyOauthError\u001b[0m\u001b[0;34m(\u001b[0m\u001b[0mmsg\u001b[0m\u001b[0;34m)\u001b[0m\u001b[0;34m\u001b[0m\u001b[0;34m\u001b[0m\u001b[0m\n\u001b[0m\u001b[1;32m     78\u001b[0m     \u001b[0;32mreturn\u001b[0m \u001b[0m_val\u001b[0m\u001b[0;34m\u001b[0m\u001b[0;34m\u001b[0m\u001b[0m\n\u001b[1;32m     79\u001b[0m \u001b[0;34m\u001b[0m\u001b[0m\n",
      "\u001b[0;31mSpotifyOauthError\u001b[0m: No client_id. Pass it or set a SPOTIPY_CLIENT_ID environment variable."
     ]
    }
   ],
   "source": [
    "auth_manager = SpotifyClientCredentials()\n",
    "sp = spotipy.Spotify(auth_manager=auth_manager, requests_timeout=15)"
   ]
  },
  {
   "cell_type": "code",
   "execution_count": null,
   "id": "transparent-sharp",
   "metadata": {},
   "outputs": [],
   "source": [
    "# TODO: Passar isso para um script\n",
    "def spotify_api_get_song_id(track=None, artist=None, override_query=None):\n",
    "    query = f'artist:{artist} track:{track}' if override_query is None else override_query\n",
    "    \n",
    "    try:\n",
    "        track_id = sp.search(q=query, type='track', limit=1)\n",
    "        song_info = track_id['tracks']['items'][0]\n",
    "    except (KeyError, ReadTimeout, IndexError):\n",
    "        song_info = {}\n",
    "        \n",
    "    api_song_id = song_info.get('id')\n",
    "    api_song_name = song_info.get('name')\n",
    "    api_song_artists = song_info.get('artists')\n",
    "    \n",
    "    if api_song_artists is not None: \n",
    "        api_song_artists = [artist.get('name') for artist in api_song_artists]\n",
    "\n",
    "    return api_song_id, api_song_name, api_song_artists\n",
    "\n",
    "def spotify_api_by_requests(query):\n",
    "    \n",
    "    payload = {'q': query, 'type': 'track', 'limit': 1}\n",
    "    headers = {\"Authorization\": f\"Bearer {os.getenv('SPOTIFY_OAUTH_TOKEN')}\"}\n",
    "    r = requests.get('https://api.spotify.com/v1/search', headers=headers, params=payload)\n",
    "    try:\n",
    "        song_info = r.json()['tracks']['items'][0]\n",
    "    except (KeyError, IndexError):\n",
    "        song_info = {}\n",
    "        \n",
    "    api_song_id = song_info.get('id')\n",
    "    api_song_name = song_info.get('name')\n",
    "    api_song_artists = song_info.get('artists')\n",
    "    \n",
    "    if api_song_artists is not None: \n",
    "        api_song_artists = [artist.get('name') for artist in api_song_artists]\n",
    "\n",
    "    return api_song_id, api_song_name, api_song_artists"
   ]
  },
  {
   "cell_type": "markdown",
   "id": "gross-canada",
   "metadata": {},
   "source": [
    "### Get song names and artists from billboard data"
   ]
  },
  {
   "cell_type": "code",
   "execution_count": null,
   "id": "british-favor",
   "metadata": {},
   "outputs": [],
   "source": [
    "songs_artists = []\n",
    "\n",
    "for year in tqdm(BILLBOARD_DOWNLOAD_YEARS):\n",
    "    with open(RAW_DATA_PATH_BILLBOARD/\"{}.json\".format(year), 'r') as f:\n",
    "        data = json.load(f)\n",
    "        year_songs_artists = [(d['title'], d['artist']) for d in data]\n",
    "        songs_artists.extend(year_songs_artists)\n",
    "        \n",
    "len(songs_artists)"
   ]
  },
  {
   "cell_type": "markdown",
   "id": "altered-cleaner",
   "metadata": {},
   "source": [
    "### Get song IDs from Spotify "
   ]
  },
  {
   "cell_type": "code",
   "execution_count": null,
   "id": "alleged-association",
   "metadata": {},
   "outputs": [],
   "source": [
    "billboard_table_df = pd.read_csv(BILLBOARD_TABLE_FILEPATH, index_col=0)\n",
    "song_artists = [(value['title'], value['artist']) for index, value in billboard_table_df[['title', 'artist']].iterrows()]\n",
    "\n",
    "spotify_ids_dict = {'name': [], 'artist': [], 'api_id': [], 'api_name': [], 'api_artists': []}\n",
    "for song_name, song_artist in tqdm(songs_artists):\n",
    "    \n",
    "    # Base Search Songs\n",
    "    base_api_music = spotify_api_get_song_id(song_name, song_artist)\n",
    "    \n",
    "    # Searching Without Apostrophes\n",
    "    if any(x is None for x in base_api_music): \n",
    "        song_name_cleaned = song_name.replace(\"'\", '')\n",
    "        song_artist_cleaned = song_artist.replace(\"'\", '')\n",
    "        base_api_music = spotify_api_get_song_id(song_name_cleaned, song_artist_cleaned)\n",
    "    \n",
    "    # Searching Without Symbols\n",
    "    if any(x is None for x in base_api_music):\n",
    "        song_name_cleaned = re.sub(r'[-\\.\\+,\\(\\)]', \"\", song_name_cleaned)\n",
    "        song_artist_cleaned = re.sub(r'[-\\.\\+,\\(\\)]', \"\", song_artist_cleaned)\n",
    "        base_api_music = spotify_api_get_song_id(song_name_cleaned, song_artist_cleaned)\n",
    "        \n",
    "    # Wide search\n",
    "    if any(x is None for x in base_api_music):\n",
    "        base_api_music = spotify_api_get_song_id(override_query=\" \".join([song_name_cleaned, song_artist_cleaned]))\n",
    "        \n",
    "    # Adding data to dataframe\n",
    "    api_song_id = base_api_music[0]\n",
    "    api_song_name = base_api_music[1]\n",
    "    api_song_artists = \",\".join(base_api_music[2]) if base_api_music[2] is not None else None\n",
    "\n",
    "    spotify_ids_dict[\"name\"].append(song_name)\n",
    "    spotify_ids_dict[\"artist\"].append(song_artist)\n",
    "    spotify_ids_dict[\"api_id\"].append(api_song_id)\n",
    "    spotify_ids_dict[\"api_name\"].append(api_song_name)\n",
    "    spotify_ids_dict[\"api_artists\"].append(api_song_artists)\n",
    "    \n",
    "spotify_ids_df = pd.DataFrame(spotify_ids_dict)\n",
    "spotify_ids_df = spotify_ids_df.drop_duplicates()\n",
    "spotify_ids_df.to_csv(SONG_IDS_FILEPATH)"
   ]
  },
  {
   "cell_type": "markdown",
   "id": "mexican-particle",
   "metadata": {},
   "source": [
    "#### Missing Values Treatment"
   ]
  },
  {
   "cell_type": "code",
   "execution_count": null,
   "id": "through-strain",
   "metadata": {},
   "outputs": [],
   "source": [
    "spotify_ids_df = pd.read_csv(SONG_IDS_FILEPATH, index_col=0)\n",
    "missing_ids = spotify_ids_df[spotify_ids_df.api_id.isnull()]\n",
    "\n",
    "print(len(missing_ids))\n",
    "missing_ids"
   ]
  },
  {
   "cell_type": "markdown",
   "id": "artistic-disposition",
   "metadata": {},
   "source": [
    "By looking directly on SPotify API Search API https://developer.spotify.com/console/get-search-item/ I found that some values are present but somewow the library didnt' work. So I did a simple function to use the API directly"
   ]
  },
  {
   "cell_type": "code",
   "execution_count": null,
   "id": "portable-signal",
   "metadata": {},
   "outputs": [],
   "source": [
    "for song in tqdm(list(missing_ids.itertuples())):\n",
    "    \n",
    "    base_api_music = spotify_api_by_requests(\" \".join([song.name, song.artist]))\n",
    "    \n",
    "    api_song_id = base_api_music[0]\n",
    "    api_song_name = base_api_music[1]\n",
    "    api_song_artists = \",\".join(base_api_music[2]) if base_api_music[2] is not None else None\n",
    "    \n",
    "    spotify_ids_df.at[song.Index, 'api_id'] = api_song_id\n",
    "    spotify_ids_df.at[song.Index, 'api_name'] = api_song_name\n",
    "    spotify_ids_df.at[song.Index, 'api_artists'] = api_song_artists"
   ]
  },
  {
   "cell_type": "markdown",
   "id": "secure-latter",
   "metadata": {},
   "source": [
    "Finally let's check the last missing values"
   ]
  },
  {
   "cell_type": "code",
   "execution_count": null,
   "id": "molecular-surface",
   "metadata": {},
   "outputs": [],
   "source": [
    "missing_ids = spotify_ids_df[spotify_ids_df.api_id.isnull()]\n",
    "\n",
    "print(len(missing_ids))\n",
    "missing_ids"
   ]
  },
  {
   "cell_type": "markdown",
   "id": "fatal-merchandise",
   "metadata": {},
   "source": [
    "I didn't found the correct values on spotify API, so they are really missing. Let's save the dataframe"
   ]
  },
  {
   "cell_type": "code",
   "execution_count": null,
   "id": "bibliographic-partner",
   "metadata": {},
   "outputs": [],
   "source": [
    "print(len(spotify_ids_df))\n",
    "spotify_ids_df.to_csv(SONG_IDS_FILEPATH)"
   ]
  },
  {
   "cell_type": "markdown",
   "id": "individual-clearance",
   "metadata": {},
   "source": [
    "### Get Audio Features from IDs\n",
    "https://developer.spotify.com/documentation/web-api/reference/#object-audiofeaturesobject"
   ]
  },
  {
   "cell_type": "code",
   "execution_count": null,
   "id": "baking-tuner",
   "metadata": {},
   "outputs": [],
   "source": [
    "spotify_ids_df = pd.read_csv(SONG_IDS_FILEPATH, index_col=0)\n",
    "\n",
    "audio_features_list = []\n",
    "search_ids = spotify_ids_df.api_id.dropna()\n",
    "for songs in tqdm(list(chunked(search_ids, 80))):\n",
    "    audio_features = sp.audio_features(songs)\n",
    "    audio_features_list.extend(audio_features)\n",
    "    \n",
    "audio_features_df = pd.DataFrame([feat for feat in audio_features_list if feat != None])\n",
    "audio_features_df.to_csv(SONG_AUDIO_FEATURES_FILEPATH)"
   ]
  },
  {
   "cell_type": "code",
   "execution_count": null,
   "id": "terminal-agriculture",
   "metadata": {},
   "outputs": [],
   "source": [
    "# Checking if there are missing values\n",
    "print(len(audio_features_df))\n",
    "\n",
    "if set(search_ids) != set(audio_features_df.id.unique()):\n",
    "    print(set(search_ids) - set(audio_features_df.id.unique()))"
   ]
  },
  {
   "cell_type": "markdown",
   "id": "understood-stevens",
   "metadata": {},
   "source": [
    "## Merge and Exporting Data"
   ]
  },
  {
   "cell_type": "code",
   "execution_count": 15,
   "id": "described-remains",
   "metadata": {},
   "outputs": [],
   "source": [
    "FINAL_DATA_PATH = INTERIM_DATA_PATH / 'spotify_billboard_data.csv'\n",
    "\n",
    "spotify_ids_df = pd.read_csv(SONG_IDS_FILEPATH, index_col=0)\n",
    "audio_features_df = pd.read_csv(SONG_AUDIO_FEATURES_FILEPATH, index_col=0)\n",
    "billboard_table_df = pd.read_csv(BILLBOARD_TABLE_FILEPATH, index_col=0)"
   ]
  },
  {
   "cell_type": "markdown",
   "id": "french-source",
   "metadata": {},
   "source": [
    "### Merging Spotify Data"
   ]
  },
  {
   "cell_type": "code",
   "execution_count": 16,
   "id": "adjusted-heritage",
   "metadata": {},
   "outputs": [
    {
     "name": "stdout",
     "output_type": "stream",
     "text": [
      "3917\n"
     ]
    }
   ],
   "source": [
    "spotify_ids_df = spotify_ids_df.set_index(\"api_id\")\n",
    "audio_features_df = audio_features_df.set_index(\"id\")\n",
    "\n",
    "spotify_df = spotify_ids_df.join(audio_features_df, how='outer')\n",
    "print(len(spotify_df))"
   ]
  },
  {
   "cell_type": "markdown",
   "id": "environmental-slope",
   "metadata": {},
   "source": [
    "### Merging Spotify and Billboard Data"
   ]
  },
  {
   "cell_type": "code",
   "execution_count": 17,
   "id": "multiple-friend",
   "metadata": {},
   "outputs": [
    {
     "data": {
      "text/plain": [
       "4028"
      ]
     },
     "execution_count": 17,
     "metadata": {},
     "output_type": "execute_result"
    }
   ],
   "source": [
    "final_data_df = pd.merge(\n",
    "    left=spotify_df.reset_index().dropna().drop_duplicates(), \n",
    "    right=billboard_table_df, \n",
    "    how='right', \n",
    "    left_on=['name','artist'], \n",
    "    right_on=['title','artist'],\n",
    "    suffixes=('_left', '_right')\n",
    ")\n",
    "\n",
    "len(final_data_df)"
   ]
  },
  {
   "cell_type": "markdown",
   "id": "obvious-elephant",
   "metadata": {},
   "source": [
    "### Exporting Data"
   ]
  },
  {
   "cell_type": "code",
   "execution_count": 18,
   "id": "expressed-weather",
   "metadata": {},
   "outputs": [],
   "source": [
    "final_data_df.to_csv(FINAL_DATA_PATH)"
   ]
  }
 ],
 "metadata": {
  "kernelspec": {
   "display_name": "Python 3",
   "language": "python",
   "name": "python3"
  },
  "language_info": {
   "codemirror_mode": {
    "name": "ipython",
    "version": 3
   },
   "file_extension": ".py",
   "mimetype": "text/x-python",
   "name": "python",
   "nbconvert_exporter": "python",
   "pygments_lexer": "ipython3",
   "version": "3.8.8"
  }
 },
 "nbformat": 4,
 "nbformat_minor": 5
}
