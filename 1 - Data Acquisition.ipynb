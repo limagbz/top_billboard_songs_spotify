{
 "cells": [
  {
   "cell_type": "code",
   "execution_count": 1,
   "id": "operational-charger",
   "metadata": {},
   "outputs": [],
   "source": [
    "import os\n",
    "import re\n",
    "import json\n",
    "from pathlib import Path\n",
    "\n",
    "import requests\n",
    "import spotipy\n",
    "import pandas as pd\n",
    "from tqdm import tqdm\n",
    "from requests.exceptions import ReadTimeout\n",
    "from spotipy.oauth2 import SpotifyClientCredentials, SpotifyOAuth\n",
    "from dotenv import load_dotenv\n",
    "from more_itertools import chunked"
   ]
  },
  {
   "cell_type": "code",
   "execution_count": 2,
   "id": "unusual-hormone",
   "metadata": {},
   "outputs": [
    {
     "data": {
      "text/plain": [
       "True"
      ]
     },
     "execution_count": 2,
     "metadata": {},
     "output_type": "execute_result"
    }
   ],
   "source": [
    "load_dotenv()"
   ]
  },
  {
   "cell_type": "markdown",
   "id": "human-investigator",
   "metadata": {},
   "source": [
    "# Data Acquistion"
   ]
  },
  {
   "cell_type": "markdown",
   "id": "sealed-olive",
   "metadata": {},
   "source": [
    "The objective of this notebook is to download all the data necessary for the project. First it downloads the billboard data provided on github [kevinschaich/billboard](https://github.com/kevinschaich/billboard). After that, for each song in the billboard dataset we get information using the Spotify API."
   ]
  },
  {
   "cell_type": "code",
   "execution_count": 3,
   "id": "organic-verse",
   "metadata": {},
   "outputs": [],
   "source": [
    "RAW_DATA_PATH = Path('data/raw')\n",
    "INTERIM_DATA_PATH = Path('data/interim')\n",
    "EXTERNAL_DATA_PATH = Path('data/external')\n",
    "\n",
    "RAW_DATA_PATH_BILLBOARD = RAW_DATA_PATH / 'billboard'\n",
    "RAW_DATA_PATH_SPOTIFY = RAW_DATA_PATH / 'spotify'\n",
    "INTERIM_DATA_BILLBOARD = INTERIM_DATA_PATH / 'billboard'\n",
    "EXTERNAL_DATA_PATH_SPOTIFY = EXTERNAL_DATA_PATH / 'spotify'\n",
    "\n",
    "RAW_DATA_PATH_BILLBOARD.mkdir(exist_ok=True, parents=True)\n",
    "INTERIM_DATA_BILLBOARD.mkdir(exist_ok=True, parents=True)\n",
    "RAW_DATA_PATH_SPOTIFY.mkdir(exist_ok=True, parents=True)\n",
    "EXTERNAL_DATA_PATH_SPOTIFY.mkdir(exist_ok=True, parents=True)"
   ]
  },
  {
   "cell_type": "code",
   "execution_count": 4,
   "id": "raised-classroom",
   "metadata": {},
   "outputs": [],
   "source": [
    "BILLBOARD_TABLE_FILEPATH = INTERIM_DATA_BILLBOARD / \"billboard_data.csv\"\n",
    "SONG_IDS_FILEPATH = EXTERNAL_DATA_PATH_SPOTIFY / \"song_ids.csv\"\n",
    "SONG_AUDIO_FEATURES_FILEPATH = EXTERNAL_DATA_PATH_SPOTIFY / \"song_audiofeatures.csv\""
   ]
  },
  {
   "cell_type": "markdown",
   "id": "athletic-america",
   "metadata": {},
   "source": [
    "## Billboard Data"
   ]
  },
  {
   "cell_type": "markdown",
   "id": "silent-racing",
   "metadata": {},
   "source": [
    "This section downloads and tabulates all the json data provided in the billboard data repository from 1950 to 2015."
   ]
  },
  {
   "cell_type": "markdown",
   "id": "welsh-retreat",
   "metadata": {},
   "source": [
    "### Download"
   ]
  },
  {
   "cell_type": "code",
   "execution_count": 5,
   "id": "pressed-interface",
   "metadata": {},
   "outputs": [],
   "source": [
    "BILLBOARD_BASE_DOWNLOAD_URL = \"https://raw.githubusercontent.com/kevinschaich/billboard/master/data/years/{}.json\"\n",
    "BILLBOARD_DOWNLOAD_YEARS = list(range(1950, 2015 + 1))"
   ]
  },
  {
   "cell_type": "code",
   "execution_count": 6,
   "id": "executive-drink",
   "metadata": {},
   "outputs": [
    {
     "name": "stderr",
     "output_type": "stream",
     "text": [
      "100%|██████████| 66/66 [00:31<00:00,  2.07it/s]\n"
     ]
    }
   ],
   "source": [
    "for year in tqdm(BILLBOARD_DOWNLOAD_YEARS):\n",
    "    r = requests.get(BILLBOARD_BASE_DOWNLOAD_URL.format(year))\n",
    "    if r.status_code != 200: print(f\"Error: {year}\")\n",
    "    with open(RAW_DATA_PATH_BILLBOARD/\"{}.json\".format(year), 'wb') as f:\n",
    "        f.write(r.content)"
   ]
  },
  {
   "cell_type": "markdown",
   "id": "dated-application",
   "metadata": {},
   "source": [
    "### Tabulating Data"
   ]
  },
  {
   "cell_type": "code",
   "execution_count": 7,
   "id": "imposed-algeria",
   "metadata": {},
   "outputs": [],
   "source": [
    "def flatten_dict(dd, separator ='_', prefix =''): \n",
    "    return { prefix + separator + k if prefix else k : v \n",
    "             for kk, vv in dd.items() \n",
    "             for k, v in flatten_dict(vv, separator, kk).items() \n",
    "             } if isinstance(dd, dict) else { prefix : dd } "
   ]
  },
  {
   "cell_type": "code",
   "execution_count": 8,
   "id": "falling-welsh",
   "metadata": {},
   "outputs": [
    {
     "name": "stderr",
     "output_type": "stream",
     "text": [
      "100%|██████████| 66/66 [00:00<00:00, 117.91it/s]\n"
     ]
    },
    {
     "name": "stdout",
     "output_type": "stream",
     "text": [
      "4028\n"
     ]
    }
   ],
   "source": [
    "years_dfs = []\n",
    "for year in tqdm(BILLBOARD_DOWNLOAD_YEARS):\n",
    "    with open(RAW_DATA_PATH_BILLBOARD/\"{}.json\".format(year), 'r') as f:\n",
    "        flatten_data = [flatten_dict(x) for x in json.load(f)]\n",
    "        years_dfs.append(pd.DataFrame(flatten_data))\n",
    "                         \n",
    "billboard_table_df = pd.concat(years_dfs, keys=BILLBOARD_DOWNLOAD_YEARS)\n",
    "billboard_table_df = billboard_table_df.reset_index(level=0).rename(columns={'level_0': 'year'})\n",
    "billboard_table_df = billboard_table_df.reset_index(drop=True)\n",
    "\n",
    "print(len(billboard_table_df))\n",
    "                         \n",
    "billboard_table_df.to_csv(BILLBOARD_TABLE_FILEPATH) "
   ]
  },
  {
   "cell_type": "markdown",
   "id": "blessed-glucose",
   "metadata": {},
   "source": [
    "## Spotify Data"
   ]
  },
  {
   "cell_type": "markdown",
   "id": "continent-discipline",
   "metadata": {},
   "source": [
    "This section retrieve, the id and the audio features of each song presented in the billboard dataset. \n",
    "\n",
    "For this to work it is necessary to create a .env file in the root folder of the project containing the following information: (1) SPOTIPY_CLIENT_ID, (2) SPOTIPY_CLIENT_SECRET, (3) SPOTIFY_OAUTH_TOKEN. For (1) and (2) the credentials can be obtained by creating an application on spotify, this can be done by following [\"Web API Tutorial\"](https://developer.spotify.com/documentation/web-api/quick-start/). For (3) you can use the [Developer's console](https://developer.spotify.com/console/get-search-item/), click on the button \"Get Token\", Login into your account and copy the value generated in the field. \n",
    "\n",
    "**OBS:** The SPOTIFY_OAUTH_TOKEN is temporary"
   ]
  },
  {
   "cell_type": "code",
   "execution_count": 9,
   "id": "suburban-piano",
   "metadata": {},
   "outputs": [],
   "source": [
    "auth_manager = SpotifyClientCredentials()\n",
    "sp = spotipy.Spotify(auth_manager=auth_manager, requests_timeout=15)"
   ]
  },
  {
   "cell_type": "code",
   "execution_count": 10,
   "id": "external-toolbox",
   "metadata": {},
   "outputs": [],
   "source": [
    "def spotify_api_get_song_id(track=None, artist=None, override_query=None):\n",
    "    query = f'artist:{artist} track:{track}' if override_query is None else override_query\n",
    "    \n",
    "    try:\n",
    "        track_id = sp.search(q=query, type='track', limit=1)\n",
    "        song_info = track_id['tracks']['items'][0]\n",
    "    except (KeyError, ReadTimeout, IndexError):\n",
    "        song_info = {}\n",
    "        \n",
    "    api_song_id = song_info.get('id')\n",
    "    api_song_name = song_info.get('name')\n",
    "    api_song_artists = song_info.get('artists')\n",
    "    \n",
    "    if api_song_artists is not None: \n",
    "        api_song_artists = [artist.get('name') for artist in api_song_artists]\n",
    "\n",
    "    return api_song_id, api_song_name, api_song_artists\n",
    "\n",
    "def spotify_api_by_requests(query):\n",
    "    \n",
    "    payload = {'q': query, 'type': 'track', 'limit': 1}\n",
    "    headers = {\"Authorization\": f\"Bearer {os.getenv('SPOTIFY_OAUTH_TOKEN')}\"}\n",
    "    r = requests.get('https://api.spotify.com/v1/search', headers=headers, params=payload)\n",
    "    try:\n",
    "        song_info = r.json()['tracks']['items'][0]\n",
    "    except (KeyError, IndexError):\n",
    "        song_info = {}\n",
    "        \n",
    "    api_song_id = song_info.get('id')\n",
    "    api_song_name = song_info.get('name')\n",
    "    api_song_artists = song_info.get('artists')\n",
    "    \n",
    "    if api_song_artists is not None: \n",
    "        api_song_artists = [artist.get('name') for artist in api_song_artists]\n",
    "\n",
    "    return api_song_id, api_song_name, api_song_artists"
   ]
  },
  {
   "cell_type": "markdown",
   "id": "funded-shadow",
   "metadata": {},
   "source": [
    "### Get song names and artists from billboard data"
   ]
  },
  {
   "cell_type": "code",
   "execution_count": 11,
   "id": "specialized-cleveland",
   "metadata": {},
   "outputs": [
    {
     "name": "stderr",
     "output_type": "stream",
     "text": [
      "100%|██████████| 66/66 [00:00<00:00, 234.30it/s]\n"
     ]
    },
    {
     "data": {
      "text/plain": [
       "4028"
      ]
     },
     "execution_count": 11,
     "metadata": {},
     "output_type": "execute_result"
    }
   ],
   "source": [
    "songs_artists = []\n",
    "\n",
    "for year in tqdm(BILLBOARD_DOWNLOAD_YEARS):\n",
    "    with open(RAW_DATA_PATH_BILLBOARD/\"{}.json\".format(year), 'r') as f:\n",
    "        data = json.load(f)\n",
    "        year_songs_artists = [(d['title'], d['artist']) for d in data]\n",
    "        songs_artists.extend(year_songs_artists)\n",
    "        \n",
    "len(songs_artists)"
   ]
  },
  {
   "cell_type": "markdown",
   "id": "iraqi-documentation",
   "metadata": {},
   "source": [
    "### Get song IDs from Spotify "
   ]
  },
  {
   "cell_type": "markdown",
   "id": "worse-drinking",
   "metadata": {},
   "source": [
    "To get the audio features we first need to get the Ids for each music by using the [Search API](https://developer.spotify.com/documentation/web-api/reference/#category-search). "
   ]
  },
  {
   "cell_type": "code",
   "execution_count": 12,
   "id": "capital-warren",
   "metadata": {},
   "outputs": [
    {
     "name": "stderr",
     "output_type": "stream",
     "text": [
      "100%|██████████| 4028/4028 [17:09<00:00,  3.91it/s]  \n"
     ]
    }
   ],
   "source": [
    "billboard_table_df = pd.read_csv(BILLBOARD_TABLE_FILEPATH, index_col=0)\n",
    "song_artists = [(value['title'], value['artist']) for index, value in billboard_table_df[['title', 'artist']].iterrows()]\n",
    "\n",
    "spotify_ids_dict = {'name': [], 'artist': [], 'api_id': [], 'api_name': [], 'api_artists': []}\n",
    "for song_name, song_artist in tqdm(songs_artists):\n",
    "    \n",
    "    # Base Search Songs\n",
    "    base_api_music = spotify_api_get_song_id(song_name, song_artist)\n",
    "    \n",
    "    # Searching Without Apostrophes\n",
    "    if any(x is None for x in base_api_music): \n",
    "        song_name_cleaned = song_name.replace(\"'\", '')\n",
    "        song_artist_cleaned = song_artist.replace(\"'\", '')\n",
    "        base_api_music = spotify_api_get_song_id(song_name_cleaned, song_artist_cleaned)\n",
    "    \n",
    "    # Searching Without Symbols\n",
    "    if any(x is None for x in base_api_music):\n",
    "        song_name_cleaned = re.sub(r'[-\\.\\+,\\(\\)]', \"\", song_name_cleaned)\n",
    "        song_artist_cleaned = re.sub(r'[-\\.\\+,\\(\\)]', \"\", song_artist_cleaned)\n",
    "        base_api_music = spotify_api_get_song_id(song_name_cleaned, song_artist_cleaned)\n",
    "        \n",
    "    # Wide search\n",
    "    if any(x is None for x in base_api_music):\n",
    "        base_api_music = spotify_api_get_song_id(override_query=\" \".join([song_name_cleaned, song_artist_cleaned]))\n",
    "        \n",
    "    # Adding data to dataframe\n",
    "    api_song_id = base_api_music[0]\n",
    "    api_song_name = base_api_music[1]\n",
    "    api_song_artists = \",\".join(base_api_music[2]) if base_api_music[2] is not None else None\n",
    "\n",
    "    spotify_ids_dict[\"name\"].append(song_name)\n",
    "    spotify_ids_dict[\"artist\"].append(song_artist)\n",
    "    spotify_ids_dict[\"api_id\"].append(api_song_id)\n",
    "    spotify_ids_dict[\"api_name\"].append(api_song_name)\n",
    "    spotify_ids_dict[\"api_artists\"].append(api_song_artists)\n",
    "    \n",
    "spotify_ids_df = pd.DataFrame(spotify_ids_dict)\n",
    "spotify_ids_df = spotify_ids_df.drop_duplicates()\n",
    "spotify_ids_df.to_csv(SONG_IDS_FILEPATH)"
   ]
  },
  {
   "cell_type": "markdown",
   "id": "large-vacuum",
   "metadata": {},
   "source": [
    "#### Missing Values Treatment"
   ]
  },
  {
   "cell_type": "code",
   "execution_count": 13,
   "id": "front-shape",
   "metadata": {},
   "outputs": [
    {
     "name": "stdout",
     "output_type": "stream",
     "text": [
      "7\n"
     ]
    },
    {
     "data": {
      "text/html": [
       "<div>\n",
       "<style scoped>\n",
       "    .dataframe tbody tr th:only-of-type {\n",
       "        vertical-align: middle;\n",
       "    }\n",
       "\n",
       "    .dataframe tbody tr th {\n",
       "        vertical-align: top;\n",
       "    }\n",
       "\n",
       "    .dataframe thead th {\n",
       "        text-align: right;\n",
       "    }\n",
       "</style>\n",
       "<table border=\"1\" class=\"dataframe\">\n",
       "  <thead>\n",
       "    <tr style=\"text-align: right;\">\n",
       "      <th></th>\n",
       "      <th>name</th>\n",
       "      <th>artist</th>\n",
       "      <th>api_id</th>\n",
       "      <th>api_name</th>\n",
       "      <th>api_artists</th>\n",
       "    </tr>\n",
       "  </thead>\n",
       "  <tbody>\n",
       "    <tr>\n",
       "      <th>91</th>\n",
       "      <td>True Love</td>\n",
       "      <td>Jane Powell</td>\n",
       "      <td>NaN</td>\n",
       "      <td>NaN</td>\n",
       "      <td>NaN</td>\n",
       "    </tr>\n",
       "    <tr>\n",
       "      <th>180</th>\n",
       "      <td>Billy</td>\n",
       "      <td>Kathy Linden</td>\n",
       "      <td>NaN</td>\n",
       "      <td>NaN</td>\n",
       "      <td>NaN</td>\n",
       "    </tr>\n",
       "    <tr>\n",
       "      <th>183</th>\n",
       "      <td>The Story of My Life</td>\n",
       "      <td>Marty Robins</td>\n",
       "      <td>NaN</td>\n",
       "      <td>NaN</td>\n",
       "      <td>NaN</td>\n",
       "    </tr>\n",
       "    <tr>\n",
       "      <th>1048</th>\n",
       "      <td>Mighty Love, Pt. 1</td>\n",
       "      <td>Spinners</td>\n",
       "      <td>NaN</td>\n",
       "      <td>NaN</td>\n",
       "      <td>NaN</td>\n",
       "    </tr>\n",
       "    <tr>\n",
       "      <th>1520</th>\n",
       "      <td>It's Now Or Never</td>\n",
       "      <td>John Schneider</td>\n",
       "      <td>NaN</td>\n",
       "      <td>NaN</td>\n",
       "      <td>NaN</td>\n",
       "    </tr>\n",
       "    <tr>\n",
       "      <th>1747</th>\n",
       "      <td>Breakdance</td>\n",
       "      <td>Irene Cara</td>\n",
       "      <td>NaN</td>\n",
       "      <td>NaN</td>\n",
       "      <td>NaN</td>\n",
       "    </tr>\n",
       "    <tr>\n",
       "      <th>2242</th>\n",
       "      <td>Here We Go</td>\n",
       "      <td>C+C Music Factory</td>\n",
       "      <td>NaN</td>\n",
       "      <td>NaN</td>\n",
       "      <td>NaN</td>\n",
       "    </tr>\n",
       "  </tbody>\n",
       "</table>\n",
       "</div>"
      ],
      "text/plain": [
       "                      name             artist api_id api_name api_artists\n",
       "91               True Love        Jane Powell    NaN      NaN         NaN\n",
       "180                  Billy       Kathy Linden    NaN      NaN         NaN\n",
       "183   The Story of My Life       Marty Robins    NaN      NaN         NaN\n",
       "1048    Mighty Love, Pt. 1           Spinners    NaN      NaN         NaN\n",
       "1520     It's Now Or Never     John Schneider    NaN      NaN         NaN\n",
       "1747            Breakdance         Irene Cara    NaN      NaN         NaN\n",
       "2242            Here We Go  C+C Music Factory    NaN      NaN         NaN"
      ]
     },
     "execution_count": 13,
     "metadata": {},
     "output_type": "execute_result"
    }
   ],
   "source": [
    "spotify_ids_df = pd.read_csv(SONG_IDS_FILEPATH, index_col=0)\n",
    "missing_ids = spotify_ids_df[spotify_ids_df.api_id.isnull()]\n",
    "\n",
    "print(len(missing_ids))\n",
    "missing_ids"
   ]
  },
  {
   "cell_type": "markdown",
   "id": "related-ministry",
   "metadata": {},
   "source": [
    "For the cases above, by looking directly from spotify app, I found that some values are present in the service but somehow the library didn't get. To correct that, we are going to search directly using the API with the requests library."
   ]
  },
  {
   "cell_type": "code",
   "execution_count": 14,
   "id": "closed-monday",
   "metadata": {},
   "outputs": [
    {
     "name": "stderr",
     "output_type": "stream",
     "text": [
      "100%|██████████| 7/7 [00:02<00:00,  2.48it/s]\n"
     ]
    }
   ],
   "source": [
    "for song in tqdm(list(missing_ids.itertuples())):\n",
    "    \n",
    "    base_api_music = spotify_api_by_requests(\" \".join([song.name, song.artist]))\n",
    "    \n",
    "    api_song_id = base_api_music[0]\n",
    "    api_song_name = base_api_music[1]\n",
    "    api_song_artists = \",\".join(base_api_music[2]) if base_api_music[2] is not None else None\n",
    "    \n",
    "    spotify_ids_df.at[song.Index, 'api_id'] = api_song_id\n",
    "    spotify_ids_df.at[song.Index, 'api_name'] = api_song_name\n",
    "    spotify_ids_df.at[song.Index, 'api_artists'] = api_song_artists"
   ]
  },
  {
   "cell_type": "markdown",
   "id": "super-application",
   "metadata": {},
   "source": [
    "Now we just have 2 missing values, they are:"
   ]
  },
  {
   "cell_type": "code",
   "execution_count": 15,
   "id": "foreign-river",
   "metadata": {},
   "outputs": [
    {
     "name": "stdout",
     "output_type": "stream",
     "text": [
      "2\n"
     ]
    },
    {
     "data": {
      "text/html": [
       "<div>\n",
       "<style scoped>\n",
       "    .dataframe tbody tr th:only-of-type {\n",
       "        vertical-align: middle;\n",
       "    }\n",
       "\n",
       "    .dataframe tbody tr th {\n",
       "        vertical-align: top;\n",
       "    }\n",
       "\n",
       "    .dataframe thead th {\n",
       "        text-align: right;\n",
       "    }\n",
       "</style>\n",
       "<table border=\"1\" class=\"dataframe\">\n",
       "  <thead>\n",
       "    <tr style=\"text-align: right;\">\n",
       "      <th></th>\n",
       "      <th>name</th>\n",
       "      <th>artist</th>\n",
       "      <th>api_id</th>\n",
       "      <th>api_name</th>\n",
       "      <th>api_artists</th>\n",
       "    </tr>\n",
       "  </thead>\n",
       "  <tbody>\n",
       "    <tr>\n",
       "      <th>1048</th>\n",
       "      <td>Mighty Love, Pt. 1</td>\n",
       "      <td>Spinners</td>\n",
       "      <td>None</td>\n",
       "      <td>None</td>\n",
       "      <td>None</td>\n",
       "    </tr>\n",
       "    <tr>\n",
       "      <th>1520</th>\n",
       "      <td>It's Now Or Never</td>\n",
       "      <td>John Schneider</td>\n",
       "      <td>None</td>\n",
       "      <td>None</td>\n",
       "      <td>None</td>\n",
       "    </tr>\n",
       "  </tbody>\n",
       "</table>\n",
       "</div>"
      ],
      "text/plain": [
       "                    name          artist api_id api_name api_artists\n",
       "1048  Mighty Love, Pt. 1        Spinners   None     None        None\n",
       "1520   It's Now Or Never  John Schneider   None     None        None"
      ]
     },
     "execution_count": 15,
     "metadata": {},
     "output_type": "execute_result"
    }
   ],
   "source": [
    "missing_ids = spotify_ids_df[spotify_ids_df.api_id.isnull()]\n",
    "\n",
    "print(len(missing_ids))\n",
    "missing_ids"
   ]
  },
  {
   "cell_type": "markdown",
   "id": "strong-substance",
   "metadata": {},
   "source": [
    "I didn't found the correct values on spotify API, so they are really missing. Let's save the dataframe"
   ]
  },
  {
   "cell_type": "code",
   "execution_count": 16,
   "id": "polar-impossible",
   "metadata": {},
   "outputs": [
    {
     "name": "stdout",
     "output_type": "stream",
     "text": [
      "3885\n"
     ]
    }
   ],
   "source": [
    "print(len(spotify_ids_df))\n",
    "spotify_ids_df.to_csv(SONG_IDS_FILEPATH)"
   ]
  },
  {
   "cell_type": "markdown",
   "id": "separated-traveler",
   "metadata": {},
   "source": [
    "### Get Audio Features from IDs\n",
    "\n",
    "With the IDs we can now get the audio features information using the [Audio Features API](https://developer.spotify.com/documentation/web-api/reference/#endpoint-get-several-audio-features). To understand the meaning of each variable you can read the [Audio Feature Object](https://developer.spotify.com/documentation/web-api/reference/#object-audiofeaturesobject)."
   ]
  },
  {
   "cell_type": "code",
   "execution_count": 24,
   "id": "elder-grounds",
   "metadata": {},
   "outputs": [
    {
     "name": "stderr",
     "output_type": "stream",
     "text": [
      "100%|██████████| 49/49 [00:15<00:00,  3.24it/s]\n"
     ]
    }
   ],
   "source": [
    "spotify_ids_df = pd.read_csv(SONG_IDS_FILEPATH, index_col=0)\n",
    "\n",
    "audio_features_list = []\n",
    "search_ids = spotify_ids_df.api_id.dropna()\n",
    "\n",
    "# To improve the performance and do less requisition we are getting information\n",
    "# from 80 songs in the same request\n",
    "for songs in tqdm(list(chunked(search_ids, 80))):\n",
    "    audio_features = sp.audio_features(songs)\n",
    "    audio_features_list.extend(audio_features)\n",
    "    \n",
    "audio_features_df = pd.DataFrame([feat for feat in audio_features_list if feat != None])\n",
    "audio_features_df.to_csv(SONG_AUDIO_FEATURES_FILEPATH)"
   ]
  },
  {
   "cell_type": "code",
   "execution_count": 25,
   "id": "disciplinary-abuse",
   "metadata": {},
   "outputs": [
    {
     "name": "stdout",
     "output_type": "stream",
     "text": [
      "3882\n",
      "{'6MFQeWtk7kxWGydnJB2y36'}\n"
     ]
    }
   ],
   "source": [
    "# Checking if there are missing values\n",
    "print(len(audio_features_df))\n",
    "\n",
    "if set(search_ids) != set(audio_features_df.id.unique()):\n",
    "    print(set(search_ids) - set(audio_features_df.id.unique()))"
   ]
  },
  {
   "cell_type": "markdown",
   "id": "prescribed-relationship",
   "metadata": {},
   "source": [
    "I checked the value above and didn't find any song information, so the data is really missing. "
   ]
  },
  {
   "cell_type": "markdown",
   "id": "hollow-reference",
   "metadata": {},
   "source": [
    "## Merge and Exporting Data"
   ]
  },
  {
   "cell_type": "code",
   "execution_count": 29,
   "id": "magnetic-mentor",
   "metadata": {},
   "outputs": [],
   "source": [
    "FINAL_DATA_PATH = INTERIM_DATA_PATH / 'spotify_billboard_data.csv'\n",
    "\n",
    "spotify_ids_df = pd.read_csv(SONG_IDS_FILEPATH, index_col=0)\n",
    "audio_features_df = pd.read_csv(SONG_AUDIO_FEATURES_FILEPATH, index_col=0)\n",
    "billboard_table_df = pd.read_csv(BILLBOARD_TABLE_FILEPATH, index_col=0)"
   ]
  },
  {
   "cell_type": "markdown",
   "id": "suffering-journal",
   "metadata": {},
   "source": [
    "### Merging Spotify Data"
   ]
  },
  {
   "cell_type": "code",
   "execution_count": 30,
   "id": "recovered-semester",
   "metadata": {},
   "outputs": [
    {
     "name": "stdout",
     "output_type": "stream",
     "text": [
      "3917\n"
     ]
    }
   ],
   "source": [
    "spotify_ids_df = spotify_ids_df.set_index(\"api_id\")\n",
    "audio_features_df = audio_features_df.set_index(\"id\")\n",
    "\n",
    "spotify_df = spotify_ids_df.join(audio_features_df, how='outer')\n",
    "print(len(spotify_df))"
   ]
  },
  {
   "cell_type": "markdown",
   "id": "illegal-bahrain",
   "metadata": {},
   "source": [
    "### Merging Spotify and Billboard Data"
   ]
  },
  {
   "cell_type": "code",
   "execution_count": 31,
   "id": "compressed-herald",
   "metadata": {},
   "outputs": [
    {
     "data": {
      "text/plain": [
       "4028"
      ]
     },
     "execution_count": 31,
     "metadata": {},
     "output_type": "execute_result"
    }
   ],
   "source": [
    "final_data_df = pd.merge(\n",
    "    left=spotify_df.reset_index().dropna().drop_duplicates(), \n",
    "    right=billboard_table_df, \n",
    "    how='right', \n",
    "    left_on=['name','artist'], \n",
    "    right_on=['title','artist'],\n",
    "    suffixes=('_left', '_right')\n",
    ")\n",
    "\n",
    "len(final_data_df)"
   ]
  },
  {
   "cell_type": "markdown",
   "id": "applied-humanity",
   "metadata": {},
   "source": [
    "### Exporting Data"
   ]
  },
  {
   "cell_type": "code",
   "execution_count": 32,
   "id": "phantom-death",
   "metadata": {},
   "outputs": [],
   "source": [
    "final_data_df.to_csv(FINAL_DATA_PATH)"
   ]
  }
 ],
 "metadata": {
  "kernelspec": {
   "display_name": "Python 3",
   "language": "python",
   "name": "python3"
  },
  "language_info": {
   "codemirror_mode": {
    "name": "ipython",
    "version": 3
   },
   "file_extension": ".py",
   "mimetype": "text/x-python",
   "name": "python",
   "nbconvert_exporter": "python",
   "pygments_lexer": "ipython3",
   "version": "3.8.8"
  }
 },
 "nbformat": 4,
 "nbformat_minor": 5
}
