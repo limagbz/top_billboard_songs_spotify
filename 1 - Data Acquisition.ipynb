{
 "cells": [
  {
   "cell_type": "code",
   "execution_count": 1,
   "id": "seven-nation",
   "metadata": {},
   "outputs": [],
   "source": [
    "import os\n",
    "import re\n",
    "import json\n",
    "from pathlib import Path\n",
    "\n",
    "import requests\n",
    "import spotipy\n",
    "import pandas as pd\n",
    "from tqdm import tqdm\n",
    "from requests.exceptions import ReadTimeout\n",
    "from spotipy.oauth2 import SpotifyClientCredentials, SpotifyOAuth\n",
    "from dotenv import load_dotenv\n",
    "from more_itertools import chunked"
   ]
  },
  {
   "cell_type": "code",
   "execution_count": 2,
   "id": "approved-banks",
   "metadata": {},
   "outputs": [
    {
     "data": {
      "text/plain": [
       "True"
      ]
     },
     "execution_count": 2,
     "metadata": {},
     "output_type": "execute_result"
    }
   ],
   "source": [
    "load_dotenv()"
   ]
  },
  {
   "cell_type": "markdown",
   "id": "hairy-ethernet",
   "metadata": {},
   "source": [
    "# Data Acquistion"
   ]
  },
  {
   "cell_type": "code",
   "execution_count": 93,
   "id": "informal-variety",
   "metadata": {},
   "outputs": [],
   "source": [
    "RAW_DATA_PATH = Path('data/raw')\n",
    "INTERIM_DATA_PATH = Path('data/interim')\n",
    "EXTERNAL_DATA_PATH = Path('data/external')\n",
    "\n",
    "RAW_DATA_PATH_BILLBOARD = RAW_DATA_PATH / 'billboard'\n",
    "RAW_DATA_PATH_SPOTIFY = RAW_DATA_PATH / 'spotify'\n",
    "INTERIM_DATA_BILLBOARD = INTERIM_DATA_PATH / 'billboard'\n",
    "EXTERNAL_DATA_PATH_SPOTIFY = EXTERNAL_DATA_PATH / 'spotify'\n",
    "\n",
    "RAW_DATA_PATH_BILLBOARD.mkdir(exist_ok=True, parents=True)\n",
    "INTERIM_DATA_BILLBOARD.mkdir(exist_ok=True, parents=True)\n",
    "RAW_DATA_PATH_SPOTIFY.mkdir(exist_ok=True, parents=True)\n",
    "EXTERNAL_DATA_PATH_SPOTIFY.mkdir(exist_ok=True, parents=True)"
   ]
  },
  {
   "cell_type": "markdown",
   "id": "magnetic-importance",
   "metadata": {},
   "source": [
    "## Billboard Data"
   ]
  },
  {
   "cell_type": "code",
   "execution_count": 4,
   "id": "exposed-obligation",
   "metadata": {},
   "outputs": [],
   "source": [
    "BILLBOARD_BASE_DOWNLOAD_URL = \"https://raw.githubusercontent.com/kevinschaich/billboard/master/data/years/{}.json\"\n",
    "BILLBOARD_DOWNLOAD_YEARS = list(range(1950, 2015 + 1))\n",
    "\n",
    "BILLBOARD_TABLE_FILEPATH = INTERIM_DATA_BILLBOARD / \"billboard_data.csv\""
   ]
  },
  {
   "cell_type": "markdown",
   "id": "announced-antique",
   "metadata": {},
   "source": [
    "### Download"
   ]
  },
  {
   "cell_type": "code",
   "execution_count": 5,
   "id": "existing-soviet",
   "metadata": {},
   "outputs": [
    {
     "name": "stderr",
     "output_type": "stream",
     "text": [
      "100%|██████████| 66/66 [00:26<00:00,  2.52it/s]\n"
     ]
    }
   ],
   "source": [
    "for year in tqdm(BILLBOARD_DOWNLOAD_YEARS):\n",
    "    r = requests.get(BILLBOARD_BASE_DOWNLOAD_URL.format(year))\n",
    "    if r.status_code != 200: print(f\"Error: {year}\")\n",
    "    with open(RAW_DATA_PATH_BILLBOARD/\"{}.json\".format(year), 'wb') as f:\n",
    "        f.write(r.content)"
   ]
  },
  {
   "cell_type": "markdown",
   "id": "treated-strip",
   "metadata": {},
   "source": [
    "### Tabulating Data"
   ]
  },
  {
   "cell_type": "code",
   "execution_count": 6,
   "id": "freelance-radius",
   "metadata": {},
   "outputs": [
    {
     "name": "stderr",
     "output_type": "stream",
     "text": [
      "100%|██████████| 66/66 [00:00<00:00, 106.26it/s]\n"
     ]
    },
    {
     "name": "stdout",
     "output_type": "stream",
     "text": [
      "4028\n"
     ]
    }
   ],
   "source": [
    "years_dfs = []\n",
    "for year in tqdm(BILLBOARD_DOWNLOAD_YEARS):\n",
    "    with open(RAW_DATA_PATH_BILLBOARD/\"{}.json\".format(year), 'r') as f:\n",
    "        years_dfs.append(pd.DataFrame(json.load(f)))\n",
    "                         \n",
    "billboard_table_df = pd.concat(years_dfs, keys=BILLBOARD_DOWNLOAD_YEARS)\n",
    "billboard_table_df = billboard_table_df.reset_index(level=0).rename(columns={'level_0': 'year'})\n",
    "billboard_table_df = billboard_table_df.reset_index(drop=True)\n",
    "\n",
    "print(len(billboard_table_df))\n",
    "                         \n",
    "billboard_table_df.to_csv(BILLBOARD_TABLE_FILEPATH) "
   ]
  },
  {
   "cell_type": "markdown",
   "id": "destroyed-concentrate",
   "metadata": {},
   "source": [
    "## Spotify Data"
   ]
  },
  {
   "cell_type": "code",
   "execution_count": 7,
   "id": "inappropriate-thunder",
   "metadata": {},
   "outputs": [],
   "source": [
    "auth_manager = SpotifyClientCredentials()\n",
    "sp = spotipy.Spotify(auth_manager=auth_manager, requests_timeout=15)\n",
    "\n",
    "SONG_IDS_FILEPATH = EXTERNAL_DATA_PATH_SPOTIFY / \"song_ids.csv\"\n",
    "SONG_AUDIO_FEATURES_FILEPATH = EXTERNAL_DATA_PATH_SPOTIFY / \"song_audiofeatures.csv\""
   ]
  },
  {
   "cell_type": "code",
   "execution_count": 8,
   "id": "departmental-airline",
   "metadata": {},
   "outputs": [],
   "source": [
    "# TODO: Passar isso para um script\n",
    "def spotify_api_get_song_id(track=None, artist=None, override_query=None):\n",
    "    query = f'artist:{artist} track:{track}' if override_query is None else override_query\n",
    "    \n",
    "    try:\n",
    "        track_id = sp.search(q=query, type='track', limit=1)\n",
    "        song_info = track_id['tracks']['items'][0]\n",
    "    except (KeyError, ReadTimeout, IndexError):\n",
    "        song_info = {}\n",
    "        \n",
    "    api_song_id = song_info.get('id')\n",
    "    api_song_name = song_info.get('name')\n",
    "    api_song_artists = song_info.get('artists')\n",
    "    \n",
    "    if api_song_artists is not None: \n",
    "        api_song_artists = [artist.get('name') for artist in api_song_artists]\n",
    "\n",
    "    return api_song_id, api_song_name, api_song_artists\n",
    "\n",
    "def spotify_api_by_requests(query):\n",
    "    \n",
    "    payload = {'q': query, 'type': 'track', 'limit': 1}\n",
    "    headers = {\"Authorization\": f\"Bearer {os.getenv('SPOTIFY_OAUTH_TOKEN')}\"}\n",
    "    r = requests.get('https://api.spotify.com/v1/search', headers=headers, params=payload)\n",
    "    try:\n",
    "        song_info = r.json()['tracks']['items'][0]\n",
    "    except (KeyError, IndexError):\n",
    "        song_info = {}\n",
    "        \n",
    "    api_song_id = song_info.get('id')\n",
    "    api_song_name = song_info.get('name')\n",
    "    api_song_artists = song_info.get('artists')\n",
    "    \n",
    "    if api_song_artists is not None: \n",
    "        api_song_artists = [artist.get('name') for artist in api_song_artists]\n",
    "\n",
    "    return api_song_id, api_song_name, api_song_artists"
   ]
  },
  {
   "cell_type": "markdown",
   "id": "polar-printing",
   "metadata": {},
   "source": [
    "### Get song names and artists from billboard data"
   ]
  },
  {
   "cell_type": "code",
   "execution_count": 9,
   "id": "monetary-occasion",
   "metadata": {},
   "outputs": [
    {
     "name": "stderr",
     "output_type": "stream",
     "text": [
      "100%|██████████| 66/66 [00:00<00:00, 126.68it/s]\n"
     ]
    },
    {
     "data": {
      "text/plain": [
       "4028"
      ]
     },
     "execution_count": 9,
     "metadata": {},
     "output_type": "execute_result"
    }
   ],
   "source": [
    "songs_artists = []\n",
    "\n",
    "for year in tqdm(BILLBOARD_DOWNLOAD_YEARS):\n",
    "    with open(RAW_DATA_PATH_BILLBOARD/\"{}.json\".format(year), 'r') as f:\n",
    "        data = json.load(f)\n",
    "        year_songs_artists = [(d['title'], d['artist']) for d in data]\n",
    "        songs_artists.extend(year_songs_artists)\n",
    "        \n",
    "len(songs_artists)"
   ]
  },
  {
   "cell_type": "markdown",
   "id": "acute-stephen",
   "metadata": {},
   "source": [
    "### Get song IDs from Spotify "
   ]
  },
  {
   "cell_type": "code",
   "execution_count": 10,
   "id": "humanitarian-coalition",
   "metadata": {},
   "outputs": [
    {
     "name": "stderr",
     "output_type": "stream",
     "text": [
      "100%|██████████| 4028/4028 [18:20<00:00,  3.66it/s]\n"
     ]
    }
   ],
   "source": [
    "billboard_table_df = pd.read_csv(BILLBOARD_TABLE_FILEPATH, index_col=0)\n",
    "song_artists = [(value['title'], value['artist']) for index, value in billboard_table_df[['title', 'artist']].iterrows()]\n",
    "\n",
    "spotify_ids_dict = {'name': [], 'artist': [], 'api_id': [], 'api_name': [], 'api_artists': []}\n",
    "for song_name, song_artist in tqdm(songs_artists):\n",
    "    \n",
    "    # Base Search Songs\n",
    "    base_api_music = spotify_api_get_song_id(song_name, song_artist)\n",
    "    \n",
    "    # Searching Without Apostrophes\n",
    "    if any(x is None for x in base_api_music): \n",
    "        song_name_cleaned = song_name.replace(\"'\", '')\n",
    "        song_artist_cleaned = song_artist.replace(\"'\", '')\n",
    "        base_api_music = spotify_api_get_song_id(song_name_cleaned, song_artist_cleaned)\n",
    "    \n",
    "    # Searching Without Symbols\n",
    "    if any(x is None for x in base_api_music):\n",
    "        song_name_cleaned = re.sub(r'[-\\.\\+,\\(\\)]', \"\", song_name_cleaned)\n",
    "        song_artist_cleaned = re.sub(r'[-\\.\\+,\\(\\)]', \"\", song_artist_cleaned)\n",
    "        base_api_music = spotify_api_get_song_id(song_name_cleaned, song_artist_cleaned)\n",
    "        \n",
    "    # Wide search\n",
    "    if any(x is None for x in base_api_music):\n",
    "        base_api_music = spotify_api_get_song_id(override_query=\" \".join([song_name_cleaned, song_artist_cleaned]))\n",
    "        \n",
    "    # Adding data to dataframe\n",
    "    api_song_id = base_api_music[0]\n",
    "    api_song_name = base_api_music[1]\n",
    "    api_song_artists = \",\".join(base_api_music[2]) if base_api_music[2] is not None else None\n",
    "\n",
    "    spotify_ids_dict[\"name\"].append(song_name)\n",
    "    spotify_ids_dict[\"artist\"].append(song_artist)\n",
    "    spotify_ids_dict[\"api_id\"].append(api_song_id)\n",
    "    spotify_ids_dict[\"api_name\"].append(api_song_name)\n",
    "    spotify_ids_dict[\"api_artists\"].append(api_song_artists)\n",
    "    \n",
    "spotify_ids_df = pd.DataFrame(spotify_ids_dict)\n",
    "spotify_ids_df = spotify_ids_df.drop_duplicates()\n",
    "spotify_ids_df.to_csv(SONG_IDS_FILEPATH)"
   ]
  },
  {
   "cell_type": "markdown",
   "id": "partial-catalyst",
   "metadata": {},
   "source": [
    "#### Missing Values Treatment"
   ]
  },
  {
   "cell_type": "code",
   "execution_count": 63,
   "id": "small-checkout",
   "metadata": {},
   "outputs": [
    {
     "name": "stdout",
     "output_type": "stream",
     "text": [
      "7\n"
     ]
    },
    {
     "data": {
      "text/html": [
       "<div>\n",
       "<style scoped>\n",
       "    .dataframe tbody tr th:only-of-type {\n",
       "        vertical-align: middle;\n",
       "    }\n",
       "\n",
       "    .dataframe tbody tr th {\n",
       "        vertical-align: top;\n",
       "    }\n",
       "\n",
       "    .dataframe thead th {\n",
       "        text-align: right;\n",
       "    }\n",
       "</style>\n",
       "<table border=\"1\" class=\"dataframe\">\n",
       "  <thead>\n",
       "    <tr style=\"text-align: right;\">\n",
       "      <th></th>\n",
       "      <th>name</th>\n",
       "      <th>artist</th>\n",
       "      <th>api_id</th>\n",
       "      <th>api_name</th>\n",
       "      <th>api_artists</th>\n",
       "    </tr>\n",
       "  </thead>\n",
       "  <tbody>\n",
       "    <tr>\n",
       "      <th>91</th>\n",
       "      <td>True Love</td>\n",
       "      <td>Jane Powell</td>\n",
       "      <td>NaN</td>\n",
       "      <td>NaN</td>\n",
       "      <td>NaN</td>\n",
       "    </tr>\n",
       "    <tr>\n",
       "      <th>180</th>\n",
       "      <td>Billy</td>\n",
       "      <td>Kathy Linden</td>\n",
       "      <td>NaN</td>\n",
       "      <td>NaN</td>\n",
       "      <td>NaN</td>\n",
       "    </tr>\n",
       "    <tr>\n",
       "      <th>183</th>\n",
       "      <td>The Story of My Life</td>\n",
       "      <td>Marty Robins</td>\n",
       "      <td>NaN</td>\n",
       "      <td>NaN</td>\n",
       "      <td>NaN</td>\n",
       "    </tr>\n",
       "    <tr>\n",
       "      <th>1048</th>\n",
       "      <td>Mighty Love, Pt. 1</td>\n",
       "      <td>Spinners</td>\n",
       "      <td>NaN</td>\n",
       "      <td>NaN</td>\n",
       "      <td>NaN</td>\n",
       "    </tr>\n",
       "    <tr>\n",
       "      <th>1520</th>\n",
       "      <td>It's Now Or Never</td>\n",
       "      <td>John Schneider</td>\n",
       "      <td>NaN</td>\n",
       "      <td>NaN</td>\n",
       "      <td>NaN</td>\n",
       "    </tr>\n",
       "    <tr>\n",
       "      <th>1747</th>\n",
       "      <td>Breakdance</td>\n",
       "      <td>Irene Cara</td>\n",
       "      <td>NaN</td>\n",
       "      <td>NaN</td>\n",
       "      <td>NaN</td>\n",
       "    </tr>\n",
       "    <tr>\n",
       "      <th>2242</th>\n",
       "      <td>Here We Go</td>\n",
       "      <td>C+C Music Factory</td>\n",
       "      <td>NaN</td>\n",
       "      <td>NaN</td>\n",
       "      <td>NaN</td>\n",
       "    </tr>\n",
       "  </tbody>\n",
       "</table>\n",
       "</div>"
      ],
      "text/plain": [
       "                      name             artist api_id api_name api_artists\n",
       "91               True Love        Jane Powell    NaN      NaN         NaN\n",
       "180                  Billy       Kathy Linden    NaN      NaN         NaN\n",
       "183   The Story of My Life       Marty Robins    NaN      NaN         NaN\n",
       "1048    Mighty Love, Pt. 1           Spinners    NaN      NaN         NaN\n",
       "1520     It's Now Or Never     John Schneider    NaN      NaN         NaN\n",
       "1747            Breakdance         Irene Cara    NaN      NaN         NaN\n",
       "2242            Here We Go  C+C Music Factory    NaN      NaN         NaN"
      ]
     },
     "execution_count": 63,
     "metadata": {},
     "output_type": "execute_result"
    }
   ],
   "source": [
    "spotify_ids_df = pd.read_csv(SONG_IDS_FILEPATH, index_col=0)\n",
    "missing_ids = spotify_ids_df[spotify_ids_df.api_id.isnull()]\n",
    "\n",
    "print(len(missing_ids))\n",
    "missing_ids"
   ]
  },
  {
   "cell_type": "markdown",
   "id": "grand-falls",
   "metadata": {},
   "source": [
    "By looking directly on SPotify API Search API https://developer.spotify.com/console/get-search-item/ I found that some values are present but somewow the library didnt' work. So I did a simple function to use the API directly"
   ]
  },
  {
   "cell_type": "code",
   "execution_count": 64,
   "id": "going-farmer",
   "metadata": {},
   "outputs": [
    {
     "name": "stderr",
     "output_type": "stream",
     "text": [
      "100%|██████████| 7/7 [00:02<00:00,  2.58it/s]\n"
     ]
    }
   ],
   "source": [
    "for song in tqdm(list(missing_ids.itertuples())):\n",
    "    \n",
    "    base_api_music = spotify_api_by_requests(\" \".join([song.name, song.artist]))\n",
    "    \n",
    "    api_song_id = base_api_music[0]\n",
    "    api_song_name = base_api_music[1]\n",
    "    api_song_artists = \",\".join(base_api_music[2]) if base_api_music[2] is not None else None\n",
    "    \n",
    "    spotify_ids_df.at[song.Index, 'api_id'] = api_song_id\n",
    "    spotify_ids_df.at[song.Index, 'api_name'] = api_song_name\n",
    "    spotify_ids_df.at[song.Index, 'api_artists'] = api_song_artists"
   ]
  },
  {
   "cell_type": "markdown",
   "id": "global-retirement",
   "metadata": {},
   "source": [
    "Finally let's check the last missing values"
   ]
  },
  {
   "cell_type": "code",
   "execution_count": 65,
   "id": "floral-uzbekistan",
   "metadata": {},
   "outputs": [
    {
     "name": "stdout",
     "output_type": "stream",
     "text": [
      "7\n"
     ]
    },
    {
     "data": {
      "text/html": [
       "<div>\n",
       "<style scoped>\n",
       "    .dataframe tbody tr th:only-of-type {\n",
       "        vertical-align: middle;\n",
       "    }\n",
       "\n",
       "    .dataframe tbody tr th {\n",
       "        vertical-align: top;\n",
       "    }\n",
       "\n",
       "    .dataframe thead th {\n",
       "        text-align: right;\n",
       "    }\n",
       "</style>\n",
       "<table border=\"1\" class=\"dataframe\">\n",
       "  <thead>\n",
       "    <tr style=\"text-align: right;\">\n",
       "      <th></th>\n",
       "      <th>name</th>\n",
       "      <th>artist</th>\n",
       "      <th>api_id</th>\n",
       "      <th>api_name</th>\n",
       "      <th>api_artists</th>\n",
       "    </tr>\n",
       "  </thead>\n",
       "  <tbody>\n",
       "    <tr>\n",
       "      <th>91</th>\n",
       "      <td>True Love</td>\n",
       "      <td>Jane Powell</td>\n",
       "      <td>None</td>\n",
       "      <td>None</td>\n",
       "      <td>None</td>\n",
       "    </tr>\n",
       "    <tr>\n",
       "      <th>180</th>\n",
       "      <td>Billy</td>\n",
       "      <td>Kathy Linden</td>\n",
       "      <td>None</td>\n",
       "      <td>None</td>\n",
       "      <td>None</td>\n",
       "    </tr>\n",
       "    <tr>\n",
       "      <th>183</th>\n",
       "      <td>The Story of My Life</td>\n",
       "      <td>Marty Robins</td>\n",
       "      <td>None</td>\n",
       "      <td>None</td>\n",
       "      <td>None</td>\n",
       "    </tr>\n",
       "    <tr>\n",
       "      <th>1048</th>\n",
       "      <td>Mighty Love, Pt. 1</td>\n",
       "      <td>Spinners</td>\n",
       "      <td>None</td>\n",
       "      <td>None</td>\n",
       "      <td>None</td>\n",
       "    </tr>\n",
       "    <tr>\n",
       "      <th>1520</th>\n",
       "      <td>It's Now Or Never</td>\n",
       "      <td>John Schneider</td>\n",
       "      <td>None</td>\n",
       "      <td>None</td>\n",
       "      <td>None</td>\n",
       "    </tr>\n",
       "    <tr>\n",
       "      <th>1747</th>\n",
       "      <td>Breakdance</td>\n",
       "      <td>Irene Cara</td>\n",
       "      <td>None</td>\n",
       "      <td>None</td>\n",
       "      <td>None</td>\n",
       "    </tr>\n",
       "    <tr>\n",
       "      <th>2242</th>\n",
       "      <td>Here We Go</td>\n",
       "      <td>C+C Music Factory</td>\n",
       "      <td>None</td>\n",
       "      <td>None</td>\n",
       "      <td>None</td>\n",
       "    </tr>\n",
       "  </tbody>\n",
       "</table>\n",
       "</div>"
      ],
      "text/plain": [
       "                      name             artist api_id api_name api_artists\n",
       "91               True Love        Jane Powell   None     None        None\n",
       "180                  Billy       Kathy Linden   None     None        None\n",
       "183   The Story of My Life       Marty Robins   None     None        None\n",
       "1048    Mighty Love, Pt. 1           Spinners   None     None        None\n",
       "1520     It's Now Or Never     John Schneider   None     None        None\n",
       "1747            Breakdance         Irene Cara   None     None        None\n",
       "2242            Here We Go  C+C Music Factory   None     None        None"
      ]
     },
     "execution_count": 65,
     "metadata": {},
     "output_type": "execute_result"
    }
   ],
   "source": [
    "missing_ids = spotify_ids_df[spotify_ids_df.api_id.isnull()]\n",
    "\n",
    "print(len(missing_ids))\n",
    "missing_ids"
   ]
  },
  {
   "cell_type": "markdown",
   "id": "cathedral-elimination",
   "metadata": {},
   "source": [
    "I didn't found the correct values on spotify API, so they are really missing. Let's save the dataframe"
   ]
  },
  {
   "cell_type": "code",
   "execution_count": 68,
   "id": "english-honolulu",
   "metadata": {},
   "outputs": [
    {
     "name": "stdout",
     "output_type": "stream",
     "text": [
      "3885\n"
     ]
    }
   ],
   "source": [
    "print(len(spotify_ids_df))\n",
    "spotify_ids_df.to_csv(SONG_IDS_FILEPATH)"
   ]
  },
  {
   "cell_type": "markdown",
   "id": "cordless-niagara",
   "metadata": {},
   "source": [
    "### Get Audio Features from IDs\n",
    "https://developer.spotify.com/documentation/web-api/reference/#object-audiofeaturesobject"
   ]
  },
  {
   "cell_type": "code",
   "execution_count": 70,
   "id": "premier-spare",
   "metadata": {},
   "outputs": [
    {
     "name": "stderr",
     "output_type": "stream",
     "text": [
      "100%|██████████| 49/49 [00:16<00:00,  3.06it/s]\n"
     ]
    }
   ],
   "source": [
    "spotify_ids_df = pd.read_csv(SONG_IDS_FILEPATH, index_col=0)\n",
    "\n",
    "audio_features_list = []\n",
    "search_ids = spotify_ids_df.api_id.dropna()\n",
    "for songs in tqdm(list(chunked(search_ids, 80))):\n",
    "    audio_features = sp.audio_features(songs)\n",
    "    audio_features_list.extend(audio_features)\n",
    "    \n",
    "audio_features_df = pd.DataFrame([feat for feat in audio_features_list if feat != None])\n",
    "audio_features_df.to_csv(SONG_AUDIO_FEATURES_FILEPATH)"
   ]
  },
  {
   "cell_type": "code",
   "execution_count": 71,
   "id": "congressional-protocol",
   "metadata": {},
   "outputs": [
    {
     "name": "stdout",
     "output_type": "stream",
     "text": [
      "3878\n"
     ]
    }
   ],
   "source": [
    "# Checking if there are missing values\n",
    "print(len(audio_features_df))\n",
    "\n",
    "if set(search_ids) != set(audio_features_df.id.unique()):\n",
    "    print(set(search_ids) - set(audio_features_df.id.unique()))"
   ]
  },
  {
   "cell_type": "markdown",
   "id": "painted-variety",
   "metadata": {},
   "source": [
    "## Merge and Exporting Data"
   ]
  },
  {
   "cell_type": "code",
   "execution_count": 124,
   "id": "ideal-joyce",
   "metadata": {},
   "outputs": [],
   "source": [
    "FINAL_DATA_PATH = INTERIM_DATA_PATH / 'spotify_billboard_data.csv'\n",
    "\n",
    "spotify_ids_df = pd.read_csv(SONG_IDS_FILEPATH, index_col=0)\n",
    "audio_features_df = pd.read_csv(SONG_AUDIO_FEATURES_FILEPATH, index_col=0)\n",
    "billboard_table_df = pd.read_csv(BILLBOARD_TABLE_FILEPATH, index_col=0)"
   ]
  },
  {
   "cell_type": "markdown",
   "id": "genuine-picking",
   "metadata": {},
   "source": [
    "### Merging Spotify Data"
   ]
  },
  {
   "cell_type": "code",
   "execution_count": 90,
   "id": "incredible-syria",
   "metadata": {},
   "outputs": [
    {
     "name": "stdout",
     "output_type": "stream",
     "text": [
      "3917\n"
     ]
    }
   ],
   "source": [
    "spotify_ids_df = spotify_ids_df.set_index(\"api_id\")\n",
    "audio_features_df = audio_features_df.set_index(\"id\")\n",
    "\n",
    "spotify_df = spotify_ids_df.join(audio_features_df, how='outer')\n",
    "print(len(spotify_df))"
   ]
  },
  {
   "cell_type": "markdown",
   "id": "declared-barrier",
   "metadata": {},
   "source": [
    "### Merging Spotify and Billboard Data"
   ]
  },
  {
   "cell_type": "code",
   "execution_count": 123,
   "id": "worldwide-carolina",
   "metadata": {},
   "outputs": [
    {
     "data": {
      "text/plain": [
       "4028"
      ]
     },
     "execution_count": 123,
     "metadata": {},
     "output_type": "execute_result"
    }
   ],
   "source": [
    "final_data_df = pd.merge(\n",
    "    left=spotify_df.reset_index().dropna().drop_duplicates(), \n",
    "    right=billboard_table_df, \n",
    "    how='right', \n",
    "    left_on=['name','artist'], \n",
    "    right_on=['title','artist'],\n",
    "    suffixes=('_left', '_right')\n",
    ")\n",
    "\n",
    "len(final_data_df)"
   ]
  },
  {
   "cell_type": "markdown",
   "id": "better-processing",
   "metadata": {},
   "source": [
    "### Exporting Data"
   ]
  },
  {
   "cell_type": "code",
   "execution_count": 125,
   "id": "yellow-heritage",
   "metadata": {},
   "outputs": [],
   "source": [
    "final_data_df.to_csv(FINAL_DATA_PATH)"
   ]
  }
 ],
 "metadata": {
  "kernelspec": {
   "display_name": "Python 3",
   "language": "python",
   "name": "python3"
  },
  "language_info": {
   "codemirror_mode": {
    "name": "ipython",
    "version": 3
   },
   "file_extension": ".py",
   "mimetype": "text/x-python",
   "name": "python",
   "nbconvert_exporter": "python",
   "pygments_lexer": "ipython3",
   "version": "3.8.4"
  }
 },
 "nbformat": 4,
 "nbformat_minor": 5
}
