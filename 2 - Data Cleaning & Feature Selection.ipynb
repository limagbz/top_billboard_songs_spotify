{
 "cells": [
  {
   "cell_type": "code",
   "execution_count": null,
   "id": "perfect-thing",
   "metadata": {},
   "outputs": [],
   "source": [
    "audio_features_df = audio_features_df[[\n",
    "    'id', 'danceability', 'energy', 'key', 'loudness', 'mode', 'speechiness',\n",
    "    'acousticness', 'instrumentalness', 'liveness', 'valence', 'tempo',\n",
    "    'duration_ms', 'time_signature'\n",
    "]]\n",
    "\n",
    "audio_features_df.to_csv(SONG_AUDIO_FEATURES_FILEPATH)"
   ]
  }
 ],
 "metadata": {
  "kernelspec": {
   "display_name": "Python 3",
   "language": "python",
   "name": "python3"
  },
  "language_info": {
   "codemirror_mode": {
    "name": "ipython",
    "version": 3
   },
   "file_extension": ".py",
   "mimetype": "text/x-python",
   "name": "python",
   "nbconvert_exporter": "python",
   "pygments_lexer": "ipython3",
   "version": "3.8.5"
  }
 },
 "nbformat": 4,
 "nbformat_minor": 5
}
