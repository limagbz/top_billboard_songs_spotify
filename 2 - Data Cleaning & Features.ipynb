{
 "cells": [
  {
   "cell_type": "code",
   "execution_count": 55,
   "id": "following-species",
   "metadata": {},
   "outputs": [],
   "source": [
    "import ast\n",
    "from pathlib import Path\n",
    "from collections import Counter\n",
    "\n",
    "import spacy\n",
    "import pandas as pd\n",
    "import missingno as msno\n",
    "from tqdm import tqdm"
   ]
  },
  {
   "cell_type": "code",
   "execution_count": 2,
   "id": "beginning-pennsylvania",
   "metadata": {},
   "outputs": [],
   "source": [
    "nlp = spacy.load('en_core_web_trf')"
   ]
  },
  {
   "cell_type": "markdown",
   "id": "ignored-equity",
   "metadata": {},
   "source": [
    "# Data Cleaning & Features"
   ]
  },
  {
   "cell_type": "code",
   "execution_count": 66,
   "id": "material-davis",
   "metadata": {},
   "outputs": [],
   "source": [
    "INTERIM_DATA_PATH = Path('data/interim')\n",
    "SPOTIFY_BILLBOARD_DATA_PATH = INTERIM_DATA_PATH / 'spotify_billboard_data.csv'\n",
    "\n",
    "PROCESSED_DATA_PATH = Path('data/processed')\n",
    "PROCESSED_DATA_PATH.mkdir(exist_ok=True, parents=True)\n",
    "\n",
    "ARTISTS_DATA_FILEPATH = PROCESSED_DATA_PATH / 'artists.csv'\n",
    "LYRICS_DATA_FILEPATH  = PROCESSED_DATA_PATH / 'lyrics.csv'\n",
    "TAGS_DATA_FILEPATH = PROCESSED_DATA_PATH / 'tags.csv'\n",
    "SONGS_DATA_FILEPATH = PROCESSED_DATA_PATH / 'songs.csv'"
   ]
  },
  {
   "cell_type": "markdown",
   "id": "absent-cathedral",
   "metadata": {},
   "source": [
    "## Loading Data"
   ]
  },
  {
   "cell_type": "code",
   "execution_count": 17,
   "id": "chronic-diesel",
   "metadata": {},
   "outputs": [
    {
     "name": "stdout",
     "output_type": "stream",
     "text": [
      "(4028, 40)\n"
     ]
    },
    {
     "data": {
      "text/html": [
       "<div>\n",
       "<style scoped>\n",
       "    .dataframe tbody tr th:only-of-type {\n",
       "        vertical-align: middle;\n",
       "    }\n",
       "\n",
       "    .dataframe tbody tr th {\n",
       "        vertical-align: top;\n",
       "    }\n",
       "\n",
       "    .dataframe thead th {\n",
       "        text-align: right;\n",
       "    }\n",
       "</style>\n",
       "<table border=\"1\" class=\"dataframe\">\n",
       "  <thead>\n",
       "    <tr style=\"text-align: right;\">\n",
       "      <th></th>\n",
       "      <th>index</th>\n",
       "      <th>name</th>\n",
       "      <th>artist</th>\n",
       "      <th>api_name</th>\n",
       "      <th>api_artists</th>\n",
       "      <th>danceability</th>\n",
       "      <th>energy</th>\n",
       "      <th>key</th>\n",
       "      <th>loudness</th>\n",
       "      <th>mode</th>\n",
       "      <th>...</th>\n",
       "      <th>num_words</th>\n",
       "      <th>num_lines</th>\n",
       "      <th>sentiment_neg</th>\n",
       "      <th>sentiment_neu</th>\n",
       "      <th>sentiment_pos</th>\n",
       "      <th>sentiment_compound</th>\n",
       "      <th>title</th>\n",
       "      <th>f_k_grade</th>\n",
       "      <th>difficult_words</th>\n",
       "      <th>num_dupes</th>\n",
       "    </tr>\n",
       "  </thead>\n",
       "  <tbody>\n",
       "    <tr>\n",
       "      <th>0</th>\n",
       "      <td>5dae01pKNjRQtgOeAkFzPY</td>\n",
       "      <td>Mona Lisa</td>\n",
       "      <td>Nat King Cole</td>\n",
       "      <td>Mona Lisa</td>\n",
       "      <td>Nat King Cole</td>\n",
       "      <td>0.241</td>\n",
       "      <td>0.2370</td>\n",
       "      <td>1.0</td>\n",
       "      <td>-12.201</td>\n",
       "      <td>1.0</td>\n",
       "      <td>...</td>\n",
       "      <td>145</td>\n",
       "      <td>17</td>\n",
       "      <td>0.155</td>\n",
       "      <td>0.646</td>\n",
       "      <td>0.199</td>\n",
       "      <td>0.8443</td>\n",
       "      <td>Mona Lisa</td>\n",
       "      <td>2.9</td>\n",
       "      <td>13</td>\n",
       "      <td>10</td>\n",
       "    </tr>\n",
       "    <tr>\n",
       "      <th>1</th>\n",
       "      <td>1VBj7RIbwUOjNetvbECBTz</td>\n",
       "      <td>I Wanna Be Loved</td>\n",
       "      <td>Andrews Sisters</td>\n",
       "      <td>I Wanna Be Loved</td>\n",
       "      <td>The Andrews Sisters,Gordon Jenkins &amp; His Orche...</td>\n",
       "      <td>0.455</td>\n",
       "      <td>0.0792</td>\n",
       "      <td>8.0</td>\n",
       "      <td>-14.181</td>\n",
       "      <td>1.0</td>\n",
       "      <td>...</td>\n",
       "      <td>189</td>\n",
       "      <td>31</td>\n",
       "      <td>0.036</td>\n",
       "      <td>0.740</td>\n",
       "      <td>0.224</td>\n",
       "      <td>0.9897</td>\n",
       "      <td>I Wanna Be Loved</td>\n",
       "      <td>3.3</td>\n",
       "      <td>40</td>\n",
       "      <td>32</td>\n",
       "    </tr>\n",
       "    <tr>\n",
       "      <th>2</th>\n",
       "      <td>0BHroBUvBAp561BYqC9LRK</td>\n",
       "      <td>Tennessee Waltz</td>\n",
       "      <td>Patti Page</td>\n",
       "      <td>Tennessee Waltz</td>\n",
       "      <td>Patti Page</td>\n",
       "      <td>0.373</td>\n",
       "      <td>0.1240</td>\n",
       "      <td>5.0</td>\n",
       "      <td>-12.950</td>\n",
       "      <td>1.0</td>\n",
       "      <td>...</td>\n",
       "      <td>138</td>\n",
       "      <td>16</td>\n",
       "      <td>0.053</td>\n",
       "      <td>0.596</td>\n",
       "      <td>0.351</td>\n",
       "      <td>0.9948</td>\n",
       "      <td>Tennessee Waltz</td>\n",
       "      <td>2.9</td>\n",
       "      <td>5</td>\n",
       "      <td>10</td>\n",
       "    </tr>\n",
       "    <tr>\n",
       "      <th>3</th>\n",
       "      <td>0KnD456yC5JuweN932Ems3</td>\n",
       "      <td>I'll Never Be Free</td>\n",
       "      <td>Tennessee Ernie Ford</td>\n",
       "      <td>I'll Never Be Free</td>\n",
       "      <td>Tennessee Ernie Ford,Kay Starr</td>\n",
       "      <td>0.697</td>\n",
       "      <td>0.1820</td>\n",
       "      <td>7.0</td>\n",
       "      <td>-12.586</td>\n",
       "      <td>1.0</td>\n",
       "      <td>...</td>\n",
       "      <td>117</td>\n",
       "      <td>18</td>\n",
       "      <td>0.167</td>\n",
       "      <td>0.602</td>\n",
       "      <td>0.231</td>\n",
       "      <td>0.8842</td>\n",
       "      <td>I'll Never Be Free</td>\n",
       "      <td>0.9</td>\n",
       "      <td>10</td>\n",
       "      <td>3</td>\n",
       "    </tr>\n",
       "    <tr>\n",
       "      <th>4</th>\n",
       "      <td>19vjeNqhgk0vhH5TuxDok9</td>\n",
       "      <td>All My Love</td>\n",
       "      <td>Patti Page</td>\n",
       "      <td>All My Love</td>\n",
       "      <td>Patti Page</td>\n",
       "      <td>0.627</td>\n",
       "      <td>0.1930</td>\n",
       "      <td>8.0</td>\n",
       "      <td>-14.935</td>\n",
       "      <td>1.0</td>\n",
       "      <td>...</td>\n",
       "      <td>32</td>\n",
       "      <td>3</td>\n",
       "      <td>0.070</td>\n",
       "      <td>0.850</td>\n",
       "      <td>0.079</td>\n",
       "      <td>0.0772</td>\n",
       "      <td>All My Love</td>\n",
       "      <td>6.0</td>\n",
       "      <td>9</td>\n",
       "      <td>0</td>\n",
       "    </tr>\n",
       "  </tbody>\n",
       "</table>\n",
       "<p>5 rows × 40 columns</p>\n",
       "</div>"
      ],
      "text/plain": [
       "                    index                name                artist  \\\n",
       "0  5dae01pKNjRQtgOeAkFzPY           Mona Lisa         Nat King Cole   \n",
       "1  1VBj7RIbwUOjNetvbECBTz    I Wanna Be Loved       Andrews Sisters   \n",
       "2  0BHroBUvBAp561BYqC9LRK     Tennessee Waltz            Patti Page   \n",
       "3  0KnD456yC5JuweN932Ems3  I'll Never Be Free  Tennessee Ernie Ford   \n",
       "4  19vjeNqhgk0vhH5TuxDok9         All My Love            Patti Page   \n",
       "\n",
       "             api_name                                        api_artists  \\\n",
       "0           Mona Lisa                                      Nat King Cole   \n",
       "1    I Wanna Be Loved  The Andrews Sisters,Gordon Jenkins & His Orche...   \n",
       "2     Tennessee Waltz                                         Patti Page   \n",
       "3  I'll Never Be Free                     Tennessee Ernie Ford,Kay Starr   \n",
       "4         All My Love                                         Patti Page   \n",
       "\n",
       "   danceability  energy  key  loudness  mode  ...  num_words  num_lines  \\\n",
       "0         0.241  0.2370  1.0   -12.201   1.0  ...        145         17   \n",
       "1         0.455  0.0792  8.0   -14.181   1.0  ...        189         31   \n",
       "2         0.373  0.1240  5.0   -12.950   1.0  ...        138         16   \n",
       "3         0.697  0.1820  7.0   -12.586   1.0  ...        117         18   \n",
       "4         0.627  0.1930  8.0   -14.935   1.0  ...         32          3   \n",
       "\n",
       "   sentiment_neg  sentiment_neu  sentiment_pos  sentiment_compound  \\\n",
       "0          0.155          0.646          0.199              0.8443   \n",
       "1          0.036          0.740          0.224              0.9897   \n",
       "2          0.053          0.596          0.351              0.9948   \n",
       "3          0.167          0.602          0.231              0.8842   \n",
       "4          0.070          0.850          0.079              0.0772   \n",
       "\n",
       "                title f_k_grade difficult_words num_dupes  \n",
       "0           Mona Lisa       2.9              13        10  \n",
       "1    I Wanna Be Loved       3.3              40        32  \n",
       "2     Tennessee Waltz       2.9               5        10  \n",
       "3  I'll Never Be Free       0.9              10         3  \n",
       "4         All My Love       6.0               9         0  \n",
       "\n",
       "[5 rows x 40 columns]"
      ]
     },
     "execution_count": 17,
     "metadata": {},
     "output_type": "execute_result"
    }
   ],
   "source": [
    "spotify_billboard_df = pd.read_csv(SPOTIFY_BILLBOARD_DATA_PATH, index_col=0)\n",
    "\n",
    "print(spotify_billboard_df.shape)\n",
    "spotify_billboard_df.head()"
   ]
  },
  {
   "cell_type": "code",
   "execution_count": 18,
   "id": "complete-communication",
   "metadata": {},
   "outputs": [
    {
     "data": {
      "text/plain": [
       "Index(['index', 'name', 'artist', 'api_name', 'api_artists', 'danceability',\n",
       "       'energy', 'key', 'loudness', 'mode', 'speechiness', 'acousticness',\n",
       "       'instrumentalness', 'liveness', 'valence', 'tempo', 'type', 'uri',\n",
       "       'track_href', 'analysis_url', 'duration_ms', 'time_signature', 'year',\n",
       "       'lyrics', 'tags', 'num_syllables', 'pos', 'year.1', 'fog_index',\n",
       "       'flesch_index', 'num_words', 'num_lines', 'sentiment_neg',\n",
       "       'sentiment_neu', 'sentiment_pos', 'sentiment_compound', 'title',\n",
       "       'f_k_grade', 'difficult_words', 'num_dupes'],\n",
       "      dtype='object')"
      ]
     },
     "execution_count": 18,
     "metadata": {},
     "output_type": "execute_result"
    }
   ],
   "source": [
    "spotify_billboard_df.columns"
   ]
  },
  {
   "cell_type": "markdown",
   "id": "tested-adjustment",
   "metadata": {},
   "source": [
    "## Missing Values"
   ]
  },
  {
   "cell_type": "code",
   "execution_count": 33,
   "id": "fixed-raleigh",
   "metadata": {},
   "outputs": [
    {
     "data": {
      "text/plain": [
       "<AxesSubplot:>"
      ]
     },
     "execution_count": 33,
     "metadata": {},
     "output_type": "execute_result"
    },
    {
     "data": {
      "image/png": "[encoded data removed]",
      "text/plain": [
       "<Figure size 1800x720 with 2 Axes>"
      ]
     },
     "metadata": {
      "needs_background": "light"
     },
     "output_type": "display_data"
    }
   ],
   "source": [
    "msno.matrix(data_df)"
   ]
  },
  {
   "cell_type": "markdown",
   "id": "wooden-familiar",
   "metadata": {},
   "source": [
    "## Feature Selection"
   ]
  },
  {
   "cell_type": "code",
   "execution_count": 24,
   "id": "interracial-prophet",
   "metadata": {},
   "outputs": [],
   "source": [
    "FEATURE_COLUMNS = [\n",
    "    # Identification Features\n",
    "    'name', 'artist', 'api_artists',\n",
    "    \n",
    "    # Spotify Features\n",
    "    'danceability', 'energy', 'key', 'loudness', 'mode', 'speechiness',\n",
    "    'acousticness', 'instrumentalness', 'liveness', 'valence', 'tempo',\n",
    "    'duration_ms', 'time_signature',\n",
    "    \n",
    "    # Billboard Features\n",
    "    'year', 'lyrics', 'tags', 'num_syllables', 'pos',\n",
    "    'fog_index', 'flesch_index', 'num_words', 'num_lines',\n",
    "    'sentiment_neg','sentiment_neu', 'sentiment_pos', 'sentiment_compound',\n",
    "    'f_k_grade', 'difficult_words', 'num_dupes'\n",
    "]\n",
    "\n",
    "data_df = spotify_billboard_df[FEATURE_COLUMNS]"
   ]
  },
  {
   "cell_type": "markdown",
   "id": "rolled-madness",
   "metadata": {},
   "source": [
    "## Creating artists tables"
   ]
  },
  {
   "cell_type": "code",
   "execution_count": 29,
   "id": "resident-institute",
   "metadata": {},
   "outputs": [
    {
     "name": "stderr",
     "output_type": "stream",
     "text": [
      "100%|██████████| 4021/4021 [00:05<00:00, 793.93it/s]\n"
     ]
    }
   ],
   "source": [
    "artists_df = pd.DataFrame()\n",
    "artists_col = data_df.api_artists.dropna()\n",
    "\n",
    "for ix, value in tqdm(artists_col.iteritems(), total=len(artists_col)):\n",
    "    if ix is not None and value is not None:\n",
    "        artists = [(ix, artist) for artist in value.split(\",\")]\n",
    "        artists_df = artists_df.append(artists)\n",
    "        \n",
    "artists_df = artists_df.rename(columns = {0: \"index\", 1: \"artist\"})\n",
    "artists_df = artists_df.set_index(\"index\")\n",
    "artists_df.to_csv(ARTISTS_DATA_FILEPATH)"
   ]
  },
  {
   "cell_type": "markdown",
   "id": "rubber-manitoba",
   "metadata": {},
   "source": [
    "## Creating Lyrics Table"
   ]
  },
  {
   "cell_type": "code",
   "execution_count": 34,
   "id": "durable-horizon",
   "metadata": {},
   "outputs": [
    {
     "name": "stderr",
     "output_type": "stream",
     "text": [
      "100%|██████████| 4028/4028 [1:03:27<00:00,  1.06it/s]\n"
     ]
    }
   ],
   "source": [
    "lyrics_list = []\n",
    "\n",
    "for row in tqdm(data_df.itertuples(), total=len(data_df)):\n",
    "    \n",
    "    # Song & Lyrics Info\n",
    "    song_name = row.name\n",
    "    song_artist = row.artist\n",
    "    song_api_index = row.Index\n",
    "    doc = nlp(row.lyrics.lower())\n",
    "    \n",
    "    # Tokens and Counts\n",
    "    word_freq_non_stop = Counter([\n",
    "        token.lemma_ for token in doc \n",
    "        if token.is_stop != True \n",
    "        and token.is_punct != True \n",
    "        and '\\n' not in token.text\n",
    "    ])\n",
    "    unique_words_non_stop = list(word_freq_non_stop.keys())\n",
    "    freq_non_stop = list(word_freq_non_stop.values())\n",
    "\n",
    "    word_freq_stop = Counter([\n",
    "        token.lemma_ for token in doc \n",
    "        if token.is_stop == True \n",
    "        and token.is_punct != True \n",
    "        and '\\n' not in token.text\n",
    "    ])\n",
    "    unique_words_stop = list(word_freq_stop.keys())\n",
    "    freq_stop = list(word_freq_stop.values())\n",
    "    \n",
    "    # Creating DataFrame\n",
    "    number_of_words = len(unique_words_stop) + len(unique_words_non_stop)\n",
    "    \n",
    "    lyrics_song_df = pd.DataFrame({\n",
    "        \"api_index\": [song_api_index] * number_of_words,\n",
    "        \"song\": [song_name]  * number_of_words,\n",
    "        \"artist\": [song_artist] * number_of_words,\n",
    "        \"lemma\": unique_words_stop + unique_words_non_stop,\n",
    "        \"count\": freq_stop + freq_non_stop,\n",
    "        \"is_stop\": ([True] * len(unique_words_stop)) + ([False] * len(unique_words_non_stop))\n",
    "    })\n",
    "    \n",
    "    lyrics_list.append(lyrics_song_df)\n",
    "    \n",
    "lyrics_df = pd.concat(lyrics_list)\n",
    "lyrics_df.to_csv(LYRICS_DATA_FILEPATH)"
   ]
  },
  {
   "cell_type": "markdown",
   "id": "permanent-things",
   "metadata": {},
   "source": [
    "## Creating Tags Table"
   ]
  },
  {
   "cell_type": "code",
   "execution_count": 64,
   "id": "anticipated-threshold",
   "metadata": {},
   "outputs": [
    {
     "name": "stderr",
     "output_type": "stream",
     "text": [
      "100%|██████████| 4028/4028 [00:06<00:00, 592.76it/s]\n"
     ]
    }
   ],
   "source": [
    "tags_df = pd.DataFrame()\n",
    "tags_col = data_df.tags.dropna()\n",
    "\n",
    "for ix, value in tqdm(tags_col.iteritems(), total=len(tags_col)):\n",
    "    if ix is not None and value is not None:\n",
    "        tags = [(ix, tag) for tag in ast.literal_eval(value)]\n",
    "        tags_df = tags_df.append(tags)\n",
    "        \n",
    "tags_df = tags_df.rename(columns = {0: \"index\", 1: \"tag\"})\n",
    "tags_df = tags_df.set_index(\"index\")\n",
    "tags_df.to_csv(TAGS_DATA_FILEPATH)"
   ]
  },
  {
   "cell_type": "markdown",
   "id": "breathing-fellowship",
   "metadata": {},
   "source": [
    "## Filtering Main Dataset"
   ]
  },
  {
   "cell_type": "code",
   "execution_count": 67,
   "id": "pacific-mercy",
   "metadata": {},
   "outputs": [],
   "source": [
    "data_df = data_df.rename(columns = {'artist': 'main_artist'})\n",
    "data_df = data_df.drop(columns=['api_artists', 'tags'])\n",
    "data_df.to_csv(SONGS_DATA_FILEPATH)"
   ]
  }
 ],
 "metadata": {
  "kernelspec": {
   "display_name": "Python 3",
   "language": "python",
   "name": "python3"
  },
  "language_info": {
   "codemirror_mode": {
    "name": "ipython",
    "version": 3
   },
   "file_extension": ".py",
   "mimetype": "text/x-python",
   "name": "python",
   "nbconvert_exporter": "python",
   "pygments_lexer": "ipython3",
   "version": "3.8.8"
  }
 },
 "nbformat": 4,
 "nbformat_minor": 5
}
