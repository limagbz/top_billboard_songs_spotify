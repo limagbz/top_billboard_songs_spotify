{
 "cells": [
  {
   "cell_type": "code",
   "execution_count": 4,
   "id": "loving-auditor",
   "metadata": {},
   "outputs": [],
   "source": [
    "from pathlib import Path\n",
    "import pandas as pd"
   ]
  },
  {
   "cell_type": "markdown",
   "id": "liquid-natural",
   "metadata": {},
   "source": [
    "# Data Cleaning & Features"
   ]
  },
  {
   "cell_type": "code",
   "execution_count": 7,
   "id": "beginning-notion",
   "metadata": {},
   "outputs": [],
   "source": [
    "INTERIM_DATA_PATH = Path('data/interim')\n",
    "SPOTIFY_BILLBOARD_DATA_PATH = INTERIM_DATA_PATH / 'spotify_billboard_data.csv'"
   ]
  },
  {
   "cell_type": "markdown",
   "id": "incident-death",
   "metadata": {},
   "source": [
    "## Loading Data"
   ]
  },
  {
   "cell_type": "code",
   "execution_count": 11,
   "id": "defined-karaoke",
   "metadata": {},
   "outputs": [
    {
     "name": "stdout",
     "output_type": "stream",
     "text": [
      "(4028, 37)\n"
     ]
    },
    {
     "data": {
      "text/html": [
       "<div>\n",
       "<style scoped>\n",
       "    .dataframe tbody tr th:only-of-type {\n",
       "        vertical-align: middle;\n",
       "    }\n",
       "\n",
       "    .dataframe tbody tr th {\n",
       "        vertical-align: top;\n",
       "    }\n",
       "\n",
       "    .dataframe thead th {\n",
       "        text-align: right;\n",
       "    }\n",
       "</style>\n",
       "<table border=\"1\" class=\"dataframe\">\n",
       "  <thead>\n",
       "    <tr style=\"text-align: right;\">\n",
       "      <th></th>\n",
       "      <th>index</th>\n",
       "      <th>name</th>\n",
       "      <th>artist</th>\n",
       "      <th>api_name</th>\n",
       "      <th>api_artists</th>\n",
       "      <th>danceability</th>\n",
       "      <th>energy</th>\n",
       "      <th>key</th>\n",
       "      <th>loudness</th>\n",
       "      <th>mode</th>\n",
       "      <th>...</th>\n",
       "      <th>year.1</th>\n",
       "      <th>fog_index</th>\n",
       "      <th>flesch_index</th>\n",
       "      <th>num_words</th>\n",
       "      <th>num_lines</th>\n",
       "      <th>sentiment</th>\n",
       "      <th>title</th>\n",
       "      <th>f_k_grade</th>\n",
       "      <th>difficult_words</th>\n",
       "      <th>num_dupes</th>\n",
       "    </tr>\n",
       "  </thead>\n",
       "  <tbody>\n",
       "    <tr>\n",
       "      <th>0</th>\n",
       "      <td>5dae01pKNjRQtgOeAkFzPY</td>\n",
       "      <td>Mona Lisa</td>\n",
       "      <td>Nat King Cole</td>\n",
       "      <td>Mona Lisa</td>\n",
       "      <td>Nat King Cole</td>\n",
       "      <td>0.241</td>\n",
       "      <td>0.2370</td>\n",
       "      <td>1.0</td>\n",
       "      <td>-12.201</td>\n",
       "      <td>1.0</td>\n",
       "      <td>...</td>\n",
       "      <td>1950</td>\n",
       "      <td>5.2</td>\n",
       "      <td>88.74</td>\n",
       "      <td>145</td>\n",
       "      <td>17</td>\n",
       "      <td>{'neg': 0.155, 'neu': 0.646, 'pos': 0.199, 'co...</td>\n",
       "      <td>Mona Lisa</td>\n",
       "      <td>2.9</td>\n",
       "      <td>13</td>\n",
       "      <td>10</td>\n",
       "    </tr>\n",
       "    <tr>\n",
       "      <th>1</th>\n",
       "      <td>1VBj7RIbwUOjNetvbECBTz</td>\n",
       "      <td>I Wanna Be Loved</td>\n",
       "      <td>Andrews Sisters</td>\n",
       "      <td>I Wanna Be Loved</td>\n",
       "      <td>The Andrews Sisters,Gordon Jenkins &amp; His Orche...</td>\n",
       "      <td>0.455</td>\n",
       "      <td>0.0792</td>\n",
       "      <td>8.0</td>\n",
       "      <td>-14.181</td>\n",
       "      <td>1.0</td>\n",
       "      <td>...</td>\n",
       "      <td>1950</td>\n",
       "      <td>4.4</td>\n",
       "      <td>82.31</td>\n",
       "      <td>189</td>\n",
       "      <td>31</td>\n",
       "      <td>{'neg': 0.036, 'neu': 0.74, 'pos': 0.224, 'com...</td>\n",
       "      <td>I Wanna Be Loved</td>\n",
       "      <td>3.3</td>\n",
       "      <td>40</td>\n",
       "      <td>32</td>\n",
       "    </tr>\n",
       "    <tr>\n",
       "      <th>2</th>\n",
       "      <td>0BHroBUvBAp561BYqC9LRK</td>\n",
       "      <td>Tennessee Waltz</td>\n",
       "      <td>Patti Page</td>\n",
       "      <td>Tennessee Waltz</td>\n",
       "      <td>Patti Page</td>\n",
       "      <td>0.373</td>\n",
       "      <td>0.1240</td>\n",
       "      <td>5.0</td>\n",
       "      <td>-12.950</td>\n",
       "      <td>1.0</td>\n",
       "      <td>...</td>\n",
       "      <td>1950</td>\n",
       "      <td>5.2</td>\n",
       "      <td>88.74</td>\n",
       "      <td>138</td>\n",
       "      <td>16</td>\n",
       "      <td>{'neg': 0.053, 'neu': 0.596, 'pos': 0.351, 'co...</td>\n",
       "      <td>Tennessee Waltz</td>\n",
       "      <td>2.9</td>\n",
       "      <td>5</td>\n",
       "      <td>10</td>\n",
       "    </tr>\n",
       "    <tr>\n",
       "      <th>3</th>\n",
       "      <td>0KnD456yC5JuweN932Ems3</td>\n",
       "      <td>I'll Never Be Free</td>\n",
       "      <td>Tennessee Ernie Ford</td>\n",
       "      <td>I'll Never Be Free</td>\n",
       "      <td>Tennessee Ernie Ford,Kay Starr</td>\n",
       "      <td>0.697</td>\n",
       "      <td>0.1820</td>\n",
       "      <td>7.0</td>\n",
       "      <td>-12.586</td>\n",
       "      <td>1.0</td>\n",
       "      <td>...</td>\n",
       "      <td>1950</td>\n",
       "      <td>4.4</td>\n",
       "      <td>99.23</td>\n",
       "      <td>117</td>\n",
       "      <td>18</td>\n",
       "      <td>{'neg': 0.167, 'neu': 0.602, 'pos': 0.231, 'co...</td>\n",
       "      <td>I'll Never Be Free</td>\n",
       "      <td>0.9</td>\n",
       "      <td>10</td>\n",
       "      <td>3</td>\n",
       "    </tr>\n",
       "    <tr>\n",
       "      <th>4</th>\n",
       "      <td>19vjeNqhgk0vhH5TuxDok9</td>\n",
       "      <td>All My Love</td>\n",
       "      <td>Patti Page</td>\n",
       "      <td>All My Love</td>\n",
       "      <td>Patti Page</td>\n",
       "      <td>0.627</td>\n",
       "      <td>0.1930</td>\n",
       "      <td>8.0</td>\n",
       "      <td>-14.935</td>\n",
       "      <td>1.0</td>\n",
       "      <td>...</td>\n",
       "      <td>1950</td>\n",
       "      <td>6.0</td>\n",
       "      <td>69.79</td>\n",
       "      <td>32</td>\n",
       "      <td>3</td>\n",
       "      <td>{'neg': 0.07, 'neu': 0.85, 'pos': 0.079, 'comp...</td>\n",
       "      <td>All My Love</td>\n",
       "      <td>6.0</td>\n",
       "      <td>9</td>\n",
       "      <td>0</td>\n",
       "    </tr>\n",
       "  </tbody>\n",
       "</table>\n",
       "<p>5 rows × 37 columns</p>\n",
       "</div>"
      ],
      "text/plain": [
       "                    index                name                artist  \\\n",
       "0  5dae01pKNjRQtgOeAkFzPY           Mona Lisa         Nat King Cole   \n",
       "1  1VBj7RIbwUOjNetvbECBTz    I Wanna Be Loved       Andrews Sisters   \n",
       "2  0BHroBUvBAp561BYqC9LRK     Tennessee Waltz            Patti Page   \n",
       "3  0KnD456yC5JuweN932Ems3  I'll Never Be Free  Tennessee Ernie Ford   \n",
       "4  19vjeNqhgk0vhH5TuxDok9         All My Love            Patti Page   \n",
       "\n",
       "             api_name                                        api_artists  \\\n",
       "0           Mona Lisa                                      Nat King Cole   \n",
       "1    I Wanna Be Loved  The Andrews Sisters,Gordon Jenkins & His Orche...   \n",
       "2     Tennessee Waltz                                         Patti Page   \n",
       "3  I'll Never Be Free                     Tennessee Ernie Ford,Kay Starr   \n",
       "4         All My Love                                         Patti Page   \n",
       "\n",
       "   danceability  energy  key  loudness  mode  ...  year.1  fog_index  \\\n",
       "0         0.241  0.2370  1.0   -12.201   1.0  ...    1950        5.2   \n",
       "1         0.455  0.0792  8.0   -14.181   1.0  ...    1950        4.4   \n",
       "2         0.373  0.1240  5.0   -12.950   1.0  ...    1950        5.2   \n",
       "3         0.697  0.1820  7.0   -12.586   1.0  ...    1950        4.4   \n",
       "4         0.627  0.1930  8.0   -14.935   1.0  ...    1950        6.0   \n",
       "\n",
       "   flesch_index  num_words  num_lines  \\\n",
       "0         88.74        145         17   \n",
       "1         82.31        189         31   \n",
       "2         88.74        138         16   \n",
       "3         99.23        117         18   \n",
       "4         69.79         32          3   \n",
       "\n",
       "                                           sentiment               title  \\\n",
       "0  {'neg': 0.155, 'neu': 0.646, 'pos': 0.199, 'co...           Mona Lisa   \n",
       "1  {'neg': 0.036, 'neu': 0.74, 'pos': 0.224, 'com...    I Wanna Be Loved   \n",
       "2  {'neg': 0.053, 'neu': 0.596, 'pos': 0.351, 'co...     Tennessee Waltz   \n",
       "3  {'neg': 0.167, 'neu': 0.602, 'pos': 0.231, 'co...  I'll Never Be Free   \n",
       "4  {'neg': 0.07, 'neu': 0.85, 'pos': 0.079, 'comp...         All My Love   \n",
       "\n",
       "  f_k_grade difficult_words num_dupes  \n",
       "0       2.9              13        10  \n",
       "1       3.3              40        32  \n",
       "2       2.9               5        10  \n",
       "3       0.9              10         3  \n",
       "4       6.0               9         0  \n",
       "\n",
       "[5 rows x 37 columns]"
      ]
     },
     "execution_count": 11,
     "metadata": {},
     "output_type": "execute_result"
    }
   ],
   "source": [
    "spotify_billboard_df = pd.read_csv(SPOTIFY_BILLBOARD_DATA_PATH, index_col=0)\n",
    "\n",
    "print(spotify_billboard_df.shape)\n",
    "spotify_billboard_df.head()"
   ]
  },
  {
   "cell_type": "markdown",
   "id": "retired-tribe",
   "metadata": {},
   "source": [
    "## Feature Selection"
   ]
  },
  {
   "cell_type": "code",
   "execution_count": 18,
   "id": "endangered-treasure",
   "metadata": {},
   "outputs": [],
   "source": [
    "FEATURE_COLUMNS = [\n",
    "    # Identification Features\n",
    "    'name', 'artist', 'api_artists',\n",
    "    \n",
    "    # Spotify Features\n",
    "    'danceability', 'energy', 'key', 'loudness', 'mode', 'speechiness',\n",
    "    'acousticness', 'instrumentalness', 'liveness', 'valence', 'tempo',\n",
    "    'duration_ms', 'time_signature',\n",
    "    \n",
    "    # Billboard Features\n",
    "    'year', 'lyrics', 'tags', 'num_syllables', 'pos',\n",
    "    'fog_index', 'flesch_index', 'num_words', 'num_lines', 'sentiment',\n",
    "    'f_k_grade', 'difficult_words', 'num_dupes'\n",
    "]\n",
    "\n",
    "data_df = spotify_billboard_df[FEATURE_COLUMNS]"
   ]
  },
  {
   "cell_type": "markdown",
   "id": "noble-flexibility",
   "metadata": {},
   "source": [
    "## Creating artists tables"
   ]
  },
  {
   "cell_type": "code",
   "execution_count": 20,
   "id": "contemporary-vegetarian",
   "metadata": {},
   "outputs": [
    {
     "data": {
      "text/plain": [
       "\"{'neg': 0.155, 'neu': 0.646, 'pos': 0.199, 'compound': 0.8443}\""
      ]
     },
     "execution_count": 20,
     "metadata": {},
     "output_type": "execute_result"
    }
   ],
   "source": []
  },
  {
   "cell_type": "markdown",
   "id": "ranking-speed",
   "metadata": {},
   "source": [
    "## Splitting Sentiment into multiple columns"
   ]
  },
  {
   "cell_type": "code",
   "execution_count": null,
   "id": "coordinated-extension",
   "metadata": {},
   "outputs": [],
   "source": []
  },
  {
   "cell_type": "markdown",
   "id": "smooth-discussion",
   "metadata": {},
   "source": [
    "## Text Cleaning and Tokenization"
   ]
  },
  {
   "cell_type": "code",
   "execution_count": null,
   "id": "universal-escape",
   "metadata": {},
   "outputs": [],
   "source": []
  }
 ],
 "metadata": {
  "kernelspec": {
   "display_name": "Python 3",
   "language": "python",
   "name": "python3"
  },
  "language_info": {
   "codemirror_mode": {
    "name": "ipython",
    "version": 3
   },
   "file_extension": ".py",
   "mimetype": "text/x-python",
   "name": "python",
   "nbconvert_exporter": "python",
   "pygments_lexer": "ipython3",
   "version": "3.8.4"
  }
 },
 "nbformat": 4,
 "nbformat_minor": 5
}
